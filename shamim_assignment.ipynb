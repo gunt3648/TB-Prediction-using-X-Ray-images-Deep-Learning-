{
  "nbformat": 4,
  "nbformat_minor": 0,
  "metadata": {
    "colab": {
      "name": "shamim_assignment.ipynb",
      "version": "0.3.2",
      "provenance": [],
      "collapsed_sections": []
    },
    "kernelspec": {
      "name": "python3",
      "display_name": "Python 3"
    },
    "accelerator": "GPU"
  },
  "cells": [
    {
      "cell_type": "markdown",
      "metadata": {
        "id": "nzoWvhoz8dzE",
        "colab_type": "text"
      },
      "source": [
        "# Chest X-RAY Tuberculosis Analysis using Deep Learning"
      ]
    },
    {
      "cell_type": "markdown",
      "metadata": {
        "id": "QIjCpZV-8GaC",
        "colab_type": "text"
      },
      "source": [
        "**Description:** The standard digital image database for Tuberculosis is created by the National Library of Medicine, Maryland, USA in collaboration with Shenzhen No.3 People’s Hospital, Guangdong Medical College, Shenzhen, China. The Chest X-rays are from out-patient clinics, and were captured as part of the daily routine using Philips DR Digital Diagnose systems. \n",
        "Number of X-rays: \n",
        "-\t336 cases with manifestation of tuberculosis, and \n",
        "-\t326 normal cases.\n",
        "Image parameters: \n",
        "-\tFormat: PNG\n",
        "-\tImage size varies for each X-ray. It is approximately 3K x 3K.\n"
      ]
    },
    {
      "cell_type": "markdown",
      "metadata": {
        "id": "mKzxK4ZD4HoB",
        "colab_type": "text"
      },
      "source": [
        "**Problem Statement:** Using Deep Learning detect Tuberculosis of a patient by analysing his X-Ray report."
      ]
    },
    {
      "cell_type": "markdown",
      "metadata": {
        "id": "-ipYSym5yKKF",
        "colab_type": "text"
      },
      "source": [
        "### Deep Learning problem"
      ]
    },
    {
      "cell_type": "markdown",
      "metadata": {
        "id": "qpXUN67Y4BsI",
        "colab_type": "text"
      },
      "source": [
        "1. Using VGG-19, ResNet50 and Inception-V3 networks build models. \n",
        "2. Use accuracy to compare performance of the three models. \n",
        "3. Write a function to tune the threshold of the best model such that the AUC of the model is above x%(let default be 90%) and plot the confusion matrix with that tuned threshold."
      ]
    },
    {
      "cell_type": "code",
      "metadata": {
        "id": "ZVyAVJr5SggC",
        "colab_type": "code",
        "outputId": "d0874be8-fb1a-4be2-86a2-e257d23cc9f7",
        "colab": {
          "base_uri": "https://localhost:8080/",
          "height": 34
        }
      },
      "source": [
        "# initiating tensorflow and check GPU connection\n",
        "import tensorflow as tf\n",
        "tf.test.gpu_device_name()"
      ],
      "execution_count": 1,
      "outputs": [
        {
          "output_type": "execute_result",
          "data": {
            "text/plain": [
              "'/device:GPU:0'"
            ]
          },
          "metadata": {
            "tags": []
          },
          "execution_count": 1
        }
      ]
    },
    {
      "cell_type": "code",
      "metadata": {
        "id": "3V2jDp6GTLWk",
        "colab_type": "code",
        "colab": {
          "base_uri": "https://localhost:8080/",
          "height": 34
        },
        "outputId": "64223427-26e0-4c2e-9b61-683f3234502c"
      },
      "source": [
        "#Import modules\n",
        "import numpy as np\n",
        "import pandas as pd\n",
        "import matplotlib.pyplot as plt\n",
        "import seaborn as sns\n",
        "from sklearn.model_selection import train_test_split\n",
        "from keras.models import Sequential\n",
        "from keras.layers import Activation, Dense, Dropout\n",
        "from keras import optimizers\n",
        "from sklearn.metrics import confusion_matrix,accuracy_score, roc_curve, auc\n",
        "%matplotlib inline\n",
        "sns.set_style(\"whitegrid\")"
      ],
      "execution_count": 2,
      "outputs": [
        {
          "output_type": "stream",
          "text": [
            "Using TensorFlow backend.\n"
          ],
          "name": "stderr"
        }
      ]
    },
    {
      "cell_type": "code",
      "metadata": {
        "id": "gr5Io-ZEMnKD",
        "colab_type": "code",
        "colab": {}
      },
      "source": [
        "# Download the dataset to colab directory\n",
        "%%capture\n",
        "!wget  http://openi.nlm.nih.gov/imgs/collections/ChinaSet_AllFiles.zip\n"
      ],
      "execution_count": 0,
      "outputs": []
    },
    {
      "cell_type": "code",
      "metadata": {
        "id": "PfLJGLJCNGSa",
        "colab_type": "code",
        "outputId": "16bbcd74-2029-453c-dbf3-7a24bf2d2054",
        "colab": {
          "base_uri": "https://localhost:8080/",
          "height": 22644
        }
      },
      "source": [
        "# Unzip the zipped folder and store data in Train folder\n",
        "!unzip ChinaSet_AllFiles.zip\n",
        "!mv ChinaSet_AllFiles train\n",
        "!find train/CXR_png -size  0 -print0 |xargs -0 rm --"
      ],
      "execution_count": 4,
      "outputs": [
        {
          "output_type": "stream",
          "text": [
            "Archive:  ChinaSet_AllFiles.zip\n",
            "   creating: ChinaSet_AllFiles/ClinicalReadings/\n",
            " extracting: ChinaSet_AllFiles/ClinicalReadings/CHNCXR_0001_0.txt  \n",
            " extracting: ChinaSet_AllFiles/ClinicalReadings/CHNCXR_0002_0.txt  \n",
            " extracting: ChinaSet_AllFiles/ClinicalReadings/CHNCXR_0003_0.txt  \n",
            " extracting: ChinaSet_AllFiles/ClinicalReadings/CHNCXR_0004_0.txt  \n",
            " extracting: ChinaSet_AllFiles/ClinicalReadings/CHNCXR_0005_0.txt  \n",
            " extracting: ChinaSet_AllFiles/ClinicalReadings/CHNCXR_0006_0.txt  \n",
            " extracting: ChinaSet_AllFiles/ClinicalReadings/CHNCXR_0007_0.txt  \n",
            " extracting: ChinaSet_AllFiles/ClinicalReadings/CHNCXR_0008_0.txt  \n",
            " extracting: ChinaSet_AllFiles/ClinicalReadings/CHNCXR_0009_0.txt  \n",
            " extracting: ChinaSet_AllFiles/ClinicalReadings/CHNCXR_0010_0.txt  \n",
            " extracting: ChinaSet_AllFiles/ClinicalReadings/CHNCXR_0011_0.txt  \n",
            " extracting: ChinaSet_AllFiles/ClinicalReadings/CHNCXR_0012_0.txt  \n",
            " extracting: ChinaSet_AllFiles/ClinicalReadings/CHNCXR_0013_0.txt  \n",
            " extracting: ChinaSet_AllFiles/ClinicalReadings/CHNCXR_0014_0.txt  \n",
            " extracting: ChinaSet_AllFiles/ClinicalReadings/CHNCXR_0015_0.txt  \n",
            " extracting: ChinaSet_AllFiles/ClinicalReadings/CHNCXR_0016_0.txt  \n",
            " extracting: ChinaSet_AllFiles/ClinicalReadings/CHNCXR_0017_0.txt  \n",
            " extracting: ChinaSet_AllFiles/ClinicalReadings/CHNCXR_0018_0.txt  \n",
            " extracting: ChinaSet_AllFiles/ClinicalReadings/CHNCXR_0019_0.txt  \n",
            " extracting: ChinaSet_AllFiles/ClinicalReadings/CHNCXR_0020_0.txt  \n",
            " extracting: ChinaSet_AllFiles/ClinicalReadings/CHNCXR_0021_0.txt  \n",
            " extracting: ChinaSet_AllFiles/ClinicalReadings/CHNCXR_0022_0.txt  \n",
            " extracting: ChinaSet_AllFiles/ClinicalReadings/CHNCXR_0023_0.txt  \n",
            " extracting: ChinaSet_AllFiles/ClinicalReadings/CHNCXR_0024_0.txt  \n",
            " extracting: ChinaSet_AllFiles/ClinicalReadings/CHNCXR_0025_0.txt  \n",
            " extracting: ChinaSet_AllFiles/ClinicalReadings/CHNCXR_0026_0.txt  \n",
            " extracting: ChinaSet_AllFiles/ClinicalReadings/CHNCXR_0027_0.txt  \n",
            " extracting: ChinaSet_AllFiles/ClinicalReadings/CHNCXR_0028_0.txt  \n",
            " extracting: ChinaSet_AllFiles/ClinicalReadings/CHNCXR_0029_0.txt  \n",
            " extracting: ChinaSet_AllFiles/ClinicalReadings/CHNCXR_0030_0.txt  \n",
            " extracting: ChinaSet_AllFiles/ClinicalReadings/CHNCXR_0031_0.txt  \n",
            " extracting: ChinaSet_AllFiles/ClinicalReadings/CHNCXR_0032_0.txt  \n",
            " extracting: ChinaSet_AllFiles/ClinicalReadings/CHNCXR_0033_0.txt  \n",
            " extracting: ChinaSet_AllFiles/ClinicalReadings/CHNCXR_0034_0.txt  \n",
            " extracting: ChinaSet_AllFiles/ClinicalReadings/CHNCXR_0035_0.txt  \n",
            " extracting: ChinaSet_AllFiles/ClinicalReadings/CHNCXR_0036_0.txt  \n",
            " extracting: ChinaSet_AllFiles/ClinicalReadings/CHNCXR_0037_0.txt  \n",
            " extracting: ChinaSet_AllFiles/ClinicalReadings/CHNCXR_0038_0.txt  \n",
            " extracting: ChinaSet_AllFiles/ClinicalReadings/CHNCXR_0039_0.txt  \n",
            " extracting: ChinaSet_AllFiles/ClinicalReadings/CHNCXR_0040_0.txt  \n",
            " extracting: ChinaSet_AllFiles/ClinicalReadings/CHNCXR_0041_0.txt  \n",
            " extracting: ChinaSet_AllFiles/ClinicalReadings/CHNCXR_0042_0.txt  \n",
            " extracting: ChinaSet_AllFiles/ClinicalReadings/CHNCXR_0043_0.txt  \n",
            " extracting: ChinaSet_AllFiles/ClinicalReadings/CHNCXR_0044_0.txt  \n",
            " extracting: ChinaSet_AllFiles/ClinicalReadings/CHNCXR_0045_0.txt  \n",
            " extracting: ChinaSet_AllFiles/ClinicalReadings/CHNCXR_0046_0.txt  \n",
            " extracting: ChinaSet_AllFiles/ClinicalReadings/CHNCXR_0047_0.txt  \n",
            " extracting: ChinaSet_AllFiles/ClinicalReadings/CHNCXR_0048_0.txt  \n",
            " extracting: ChinaSet_AllFiles/ClinicalReadings/CHNCXR_0049_0.txt  \n",
            " extracting: ChinaSet_AllFiles/ClinicalReadings/CHNCXR_0050_0.txt  \n",
            " extracting: ChinaSet_AllFiles/ClinicalReadings/CHNCXR_0051_0.txt  \n",
            " extracting: ChinaSet_AllFiles/ClinicalReadings/CHNCXR_0052_0.txt  \n",
            " extracting: ChinaSet_AllFiles/ClinicalReadings/CHNCXR_0053_0.txt  \n",
            " extracting: ChinaSet_AllFiles/ClinicalReadings/CHNCXR_0054_0.txt  \n",
            " extracting: ChinaSet_AllFiles/ClinicalReadings/CHNCXR_0055_0.txt  \n",
            " extracting: ChinaSet_AllFiles/ClinicalReadings/CHNCXR_0056_0.txt  \n",
            " extracting: ChinaSet_AllFiles/ClinicalReadings/CHNCXR_0057_0.txt  \n",
            " extracting: ChinaSet_AllFiles/ClinicalReadings/CHNCXR_0058_0.txt  \n",
            " extracting: ChinaSet_AllFiles/ClinicalReadings/CHNCXR_0059_0.txt  \n",
            " extracting: ChinaSet_AllFiles/ClinicalReadings/CHNCXR_0060_0.txt  \n",
            " extracting: ChinaSet_AllFiles/ClinicalReadings/CHNCXR_0061_0.txt  \n",
            " extracting: ChinaSet_AllFiles/ClinicalReadings/CHNCXR_0062_0.txt  \n",
            " extracting: ChinaSet_AllFiles/ClinicalReadings/CHNCXR_0063_0.txt  \n",
            " extracting: ChinaSet_AllFiles/ClinicalReadings/CHNCXR_0064_0.txt  \n",
            " extracting: ChinaSet_AllFiles/ClinicalReadings/CHNCXR_0065_0.txt  \n",
            " extracting: ChinaSet_AllFiles/ClinicalReadings/CHNCXR_0066_0.txt  \n",
            " extracting: ChinaSet_AllFiles/ClinicalReadings/CHNCXR_0067_0.txt  \n",
            " extracting: ChinaSet_AllFiles/ClinicalReadings/CHNCXR_0068_0.txt  \n",
            " extracting: ChinaSet_AllFiles/ClinicalReadings/CHNCXR_0069_0.txt  \n",
            " extracting: ChinaSet_AllFiles/ClinicalReadings/CHNCXR_0070_0.txt  \n",
            " extracting: ChinaSet_AllFiles/ClinicalReadings/CHNCXR_0071_0.txt  \n",
            " extracting: ChinaSet_AllFiles/ClinicalReadings/CHNCXR_0072_0.txt  \n",
            " extracting: ChinaSet_AllFiles/ClinicalReadings/CHNCXR_0073_0.txt  \n",
            " extracting: ChinaSet_AllFiles/ClinicalReadings/CHNCXR_0074_0.txt  \n",
            " extracting: ChinaSet_AllFiles/ClinicalReadings/CHNCXR_0075_0.txt  \n",
            " extracting: ChinaSet_AllFiles/ClinicalReadings/CHNCXR_0076_0.txt  \n",
            " extracting: ChinaSet_AllFiles/ClinicalReadings/CHNCXR_0077_0.txt  \n",
            " extracting: ChinaSet_AllFiles/ClinicalReadings/CHNCXR_0078_0.txt  \n",
            " extracting: ChinaSet_AllFiles/ClinicalReadings/CHNCXR_0079_0.txt  \n",
            " extracting: ChinaSet_AllFiles/ClinicalReadings/CHNCXR_0080_0.txt  \n",
            " extracting: ChinaSet_AllFiles/ClinicalReadings/CHNCXR_0081_0.txt  \n",
            " extracting: ChinaSet_AllFiles/ClinicalReadings/CHNCXR_0082_0.txt  \n",
            " extracting: ChinaSet_AllFiles/ClinicalReadings/CHNCXR_0083_0.txt  \n",
            " extracting: ChinaSet_AllFiles/ClinicalReadings/CHNCXR_0084_0.txt  \n",
            " extracting: ChinaSet_AllFiles/ClinicalReadings/CHNCXR_0085_0.txt  \n",
            " extracting: ChinaSet_AllFiles/ClinicalReadings/CHNCXR_0086_0.txt  \n",
            " extracting: ChinaSet_AllFiles/ClinicalReadings/CHNCXR_0087_0.txt  \n",
            " extracting: ChinaSet_AllFiles/ClinicalReadings/CHNCXR_0088_0.txt  \n",
            " extracting: ChinaSet_AllFiles/ClinicalReadings/CHNCXR_0089_0.txt  \n",
            " extracting: ChinaSet_AllFiles/ClinicalReadings/CHNCXR_0090_0.txt  \n",
            " extracting: ChinaSet_AllFiles/ClinicalReadings/CHNCXR_0091_0.txt  \n",
            " extracting: ChinaSet_AllFiles/ClinicalReadings/CHNCXR_0092_0.txt  \n",
            " extracting: ChinaSet_AllFiles/ClinicalReadings/CHNCXR_0093_0.txt  \n",
            " extracting: ChinaSet_AllFiles/ClinicalReadings/CHNCXR_0094_0.txt  \n",
            " extracting: ChinaSet_AllFiles/ClinicalReadings/CHNCXR_0095_0.txt  \n",
            " extracting: ChinaSet_AllFiles/ClinicalReadings/CHNCXR_0096_0.txt  \n",
            " extracting: ChinaSet_AllFiles/ClinicalReadings/CHNCXR_0097_0.txt  \n",
            " extracting: ChinaSet_AllFiles/ClinicalReadings/CHNCXR_0098_0.txt  \n",
            " extracting: ChinaSet_AllFiles/ClinicalReadings/CHNCXR_0099_0.txt  \n",
            " extracting: ChinaSet_AllFiles/ClinicalReadings/CHNCXR_0100_0.txt  \n",
            " extracting: ChinaSet_AllFiles/ClinicalReadings/CHNCXR_0101_0.txt  \n",
            " extracting: ChinaSet_AllFiles/ClinicalReadings/CHNCXR_0102_0.txt  \n",
            " extracting: ChinaSet_AllFiles/ClinicalReadings/CHNCXR_0103_0.txt  \n",
            " extracting: ChinaSet_AllFiles/ClinicalReadings/CHNCXR_0104_0.txt  \n",
            " extracting: ChinaSet_AllFiles/ClinicalReadings/CHNCXR_0105_0.txt  \n",
            " extracting: ChinaSet_AllFiles/ClinicalReadings/CHNCXR_0106_0.txt  \n",
            " extracting: ChinaSet_AllFiles/ClinicalReadings/CHNCXR_0107_0.txt  \n",
            " extracting: ChinaSet_AllFiles/ClinicalReadings/CHNCXR_0108_0.txt  \n",
            " extracting: ChinaSet_AllFiles/ClinicalReadings/CHNCXR_0109_0.txt  \n",
            " extracting: ChinaSet_AllFiles/ClinicalReadings/CHNCXR_0110_0.txt  \n",
            " extracting: ChinaSet_AllFiles/ClinicalReadings/CHNCXR_0111_0.txt  \n",
            " extracting: ChinaSet_AllFiles/ClinicalReadings/CHNCXR_0112_0.txt  \n",
            " extracting: ChinaSet_AllFiles/ClinicalReadings/CHNCXR_0113_0.txt  \n",
            " extracting: ChinaSet_AllFiles/ClinicalReadings/CHNCXR_0114_0.txt  \n",
            " extracting: ChinaSet_AllFiles/ClinicalReadings/CHNCXR_0115_0.txt  \n",
            " extracting: ChinaSet_AllFiles/ClinicalReadings/CHNCXR_0116_0.txt  \n",
            " extracting: ChinaSet_AllFiles/ClinicalReadings/CHNCXR_0117_0.txt  \n",
            " extracting: ChinaSet_AllFiles/ClinicalReadings/CHNCXR_0118_0.txt  \n",
            " extracting: ChinaSet_AllFiles/ClinicalReadings/CHNCXR_0119_0.txt  \n",
            " extracting: ChinaSet_AllFiles/ClinicalReadings/CHNCXR_0120_0.txt  \n",
            " extracting: ChinaSet_AllFiles/ClinicalReadings/CHNCXR_0121_0.txt  \n",
            " extracting: ChinaSet_AllFiles/ClinicalReadings/CHNCXR_0122_0.txt  \n",
            " extracting: ChinaSet_AllFiles/ClinicalReadings/CHNCXR_0123_0.txt  \n",
            " extracting: ChinaSet_AllFiles/ClinicalReadings/CHNCXR_0124_0.txt  \n",
            " extracting: ChinaSet_AllFiles/ClinicalReadings/CHNCXR_0125_0.txt  \n",
            " extracting: ChinaSet_AllFiles/ClinicalReadings/CHNCXR_0126_0.txt  \n",
            " extracting: ChinaSet_AllFiles/ClinicalReadings/CHNCXR_0127_0.txt  \n",
            " extracting: ChinaSet_AllFiles/ClinicalReadings/CHNCXR_0128_0.txt  \n",
            " extracting: ChinaSet_AllFiles/ClinicalReadings/CHNCXR_0129_0.txt  \n",
            " extracting: ChinaSet_AllFiles/ClinicalReadings/CHNCXR_0130_0.txt  \n",
            " extracting: ChinaSet_AllFiles/ClinicalReadings/CHNCXR_0131_0.txt  \n",
            " extracting: ChinaSet_AllFiles/ClinicalReadings/CHNCXR_0132_0.txt  \n",
            " extracting: ChinaSet_AllFiles/ClinicalReadings/CHNCXR_0133_0.txt  \n",
            " extracting: ChinaSet_AllFiles/ClinicalReadings/CHNCXR_0134_0.txt  \n",
            " extracting: ChinaSet_AllFiles/ClinicalReadings/CHNCXR_0135_0.txt  \n",
            " extracting: ChinaSet_AllFiles/ClinicalReadings/CHNCXR_0136_0.txt  \n",
            " extracting: ChinaSet_AllFiles/ClinicalReadings/CHNCXR_0137_0.txt  \n",
            " extracting: ChinaSet_AllFiles/ClinicalReadings/CHNCXR_0138_0.txt  \n",
            " extracting: ChinaSet_AllFiles/ClinicalReadings/CHNCXR_0139_0.txt  \n",
            " extracting: ChinaSet_AllFiles/ClinicalReadings/CHNCXR_0140_0.txt  \n",
            " extracting: ChinaSet_AllFiles/ClinicalReadings/CHNCXR_0141_0.txt  \n",
            " extracting: ChinaSet_AllFiles/ClinicalReadings/CHNCXR_0142_0.txt  \n",
            " extracting: ChinaSet_AllFiles/ClinicalReadings/CHNCXR_0143_0.txt  \n",
            " extracting: ChinaSet_AllFiles/ClinicalReadings/CHNCXR_0144_0.txt  \n",
            " extracting: ChinaSet_AllFiles/ClinicalReadings/CHNCXR_0145_0.txt  \n",
            " extracting: ChinaSet_AllFiles/ClinicalReadings/CHNCXR_0146_0.txt  \n",
            " extracting: ChinaSet_AllFiles/ClinicalReadings/CHNCXR_0147_0.txt  \n",
            " extracting: ChinaSet_AllFiles/ClinicalReadings/CHNCXR_0148_0.txt  \n",
            " extracting: ChinaSet_AllFiles/ClinicalReadings/CHNCXR_0149_0.txt  \n",
            " extracting: ChinaSet_AllFiles/ClinicalReadings/CHNCXR_0150_0.txt  \n",
            " extracting: ChinaSet_AllFiles/ClinicalReadings/CHNCXR_0151_0.txt  \n",
            " extracting: ChinaSet_AllFiles/ClinicalReadings/CHNCXR_0152_0.txt  \n",
            " extracting: ChinaSet_AllFiles/ClinicalReadings/CHNCXR_0153_0.txt  \n",
            " extracting: ChinaSet_AllFiles/ClinicalReadings/CHNCXR_0154_0.txt  \n",
            " extracting: ChinaSet_AllFiles/ClinicalReadings/CHNCXR_0155_0.txt  \n",
            " extracting: ChinaSet_AllFiles/ClinicalReadings/CHNCXR_0156_0.txt  \n",
            " extracting: ChinaSet_AllFiles/ClinicalReadings/CHNCXR_0157_0.txt  \n",
            " extracting: ChinaSet_AllFiles/ClinicalReadings/CHNCXR_0158_0.txt  \n",
            " extracting: ChinaSet_AllFiles/ClinicalReadings/CHNCXR_0159_0.txt  \n",
            " extracting: ChinaSet_AllFiles/ClinicalReadings/CHNCXR_0160_0.txt  \n",
            " extracting: ChinaSet_AllFiles/ClinicalReadings/CHNCXR_0161_0.txt  \n",
            " extracting: ChinaSet_AllFiles/ClinicalReadings/CHNCXR_0162_0.txt  \n",
            " extracting: ChinaSet_AllFiles/ClinicalReadings/CHNCXR_0163_0.txt  \n",
            " extracting: ChinaSet_AllFiles/ClinicalReadings/CHNCXR_0164_0.txt  \n",
            " extracting: ChinaSet_AllFiles/ClinicalReadings/CHNCXR_0165_0.txt  \n",
            " extracting: ChinaSet_AllFiles/ClinicalReadings/CHNCXR_0166_0.txt  \n",
            " extracting: ChinaSet_AllFiles/ClinicalReadings/CHNCXR_0167_0.txt  \n",
            " extracting: ChinaSet_AllFiles/ClinicalReadings/CHNCXR_0168_0.txt  \n",
            " extracting: ChinaSet_AllFiles/ClinicalReadings/CHNCXR_0169_0.txt  \n",
            " extracting: ChinaSet_AllFiles/ClinicalReadings/CHNCXR_0170_0.txt  \n",
            " extracting: ChinaSet_AllFiles/ClinicalReadings/CHNCXR_0171_0.txt  \n",
            " extracting: ChinaSet_AllFiles/ClinicalReadings/CHNCXR_0172_0.txt  \n",
            " extracting: ChinaSet_AllFiles/ClinicalReadings/CHNCXR_0173_0.txt  \n",
            " extracting: ChinaSet_AllFiles/ClinicalReadings/CHNCXR_0174_0.txt  \n",
            " extracting: ChinaSet_AllFiles/ClinicalReadings/CHNCXR_0175_0.txt  \n",
            " extracting: ChinaSet_AllFiles/ClinicalReadings/CHNCXR_0176_0.txt  \n",
            " extracting: ChinaSet_AllFiles/ClinicalReadings/CHNCXR_0177_0.txt  \n",
            " extracting: ChinaSet_AllFiles/ClinicalReadings/CHNCXR_0178_0.txt  \n",
            " extracting: ChinaSet_AllFiles/ClinicalReadings/CHNCXR_0179_0.txt  \n",
            " extracting: ChinaSet_AllFiles/ClinicalReadings/CHNCXR_0180_0.txt  \n",
            " extracting: ChinaSet_AllFiles/ClinicalReadings/CHNCXR_0181_0.txt  \n",
            " extracting: ChinaSet_AllFiles/ClinicalReadings/CHNCXR_0182_0.txt  \n",
            " extracting: ChinaSet_AllFiles/ClinicalReadings/CHNCXR_0183_0.txt  \n",
            " extracting: ChinaSet_AllFiles/ClinicalReadings/CHNCXR_0184_0.txt  \n",
            " extracting: ChinaSet_AllFiles/ClinicalReadings/CHNCXR_0185_0.txt  \n",
            " extracting: ChinaSet_AllFiles/ClinicalReadings/CHNCXR_0186_0.txt  \n",
            " extracting: ChinaSet_AllFiles/ClinicalReadings/CHNCXR_0187_0.txt  \n",
            " extracting: ChinaSet_AllFiles/ClinicalReadings/CHNCXR_0188_0.txt  \n",
            " extracting: ChinaSet_AllFiles/ClinicalReadings/CHNCXR_0189_0.txt  \n",
            " extracting: ChinaSet_AllFiles/ClinicalReadings/CHNCXR_0190_0.txt  \n",
            " extracting: ChinaSet_AllFiles/ClinicalReadings/CHNCXR_0191_0.txt  \n",
            " extracting: ChinaSet_AllFiles/ClinicalReadings/CHNCXR_0192_0.txt  \n",
            " extracting: ChinaSet_AllFiles/ClinicalReadings/CHNCXR_0193_0.txt  \n",
            " extracting: ChinaSet_AllFiles/ClinicalReadings/CHNCXR_0194_0.txt  \n",
            " extracting: ChinaSet_AllFiles/ClinicalReadings/CHNCXR_0195_0.txt  \n",
            " extracting: ChinaSet_AllFiles/ClinicalReadings/CHNCXR_0196_0.txt  \n",
            " extracting: ChinaSet_AllFiles/ClinicalReadings/CHNCXR_0197_0.txt  \n",
            " extracting: ChinaSet_AllFiles/ClinicalReadings/CHNCXR_0198_0.txt  \n",
            " extracting: ChinaSet_AllFiles/ClinicalReadings/CHNCXR_0199_0.txt  \n",
            " extracting: ChinaSet_AllFiles/ClinicalReadings/CHNCXR_0200_0.txt  \n",
            " extracting: ChinaSet_AllFiles/ClinicalReadings/CHNCXR_0201_0.txt  \n",
            " extracting: ChinaSet_AllFiles/ClinicalReadings/CHNCXR_0202_0.txt  \n",
            " extracting: ChinaSet_AllFiles/ClinicalReadings/CHNCXR_0203_0.txt  \n",
            " extracting: ChinaSet_AllFiles/ClinicalReadings/CHNCXR_0204_0.txt  \n",
            " extracting: ChinaSet_AllFiles/ClinicalReadings/CHNCXR_0205_0.txt  \n",
            " extracting: ChinaSet_AllFiles/ClinicalReadings/CHNCXR_0206_0.txt  \n",
            " extracting: ChinaSet_AllFiles/ClinicalReadings/CHNCXR_0207_0.txt  \n",
            " extracting: ChinaSet_AllFiles/ClinicalReadings/CHNCXR_0208_0.txt  \n",
            " extracting: ChinaSet_AllFiles/ClinicalReadings/CHNCXR_0209_0.txt  \n",
            " extracting: ChinaSet_AllFiles/ClinicalReadings/CHNCXR_0210_0.txt  \n",
            " extracting: ChinaSet_AllFiles/ClinicalReadings/CHNCXR_0211_0.txt  \n",
            " extracting: ChinaSet_AllFiles/ClinicalReadings/CHNCXR_0212_0.txt  \n",
            " extracting: ChinaSet_AllFiles/ClinicalReadings/CHNCXR_0213_0.txt  \n",
            " extracting: ChinaSet_AllFiles/ClinicalReadings/CHNCXR_0214_0.txt  \n",
            " extracting: ChinaSet_AllFiles/ClinicalReadings/CHNCXR_0215_0.txt  \n",
            " extracting: ChinaSet_AllFiles/ClinicalReadings/CHNCXR_0216_0.txt  \n",
            " extracting: ChinaSet_AllFiles/ClinicalReadings/CHNCXR_0217_0.txt  \n",
            " extracting: ChinaSet_AllFiles/ClinicalReadings/CHNCXR_0218_0.txt  \n",
            " extracting: ChinaSet_AllFiles/ClinicalReadings/CHNCXR_0219_0.txt  \n",
            " extracting: ChinaSet_AllFiles/ClinicalReadings/CHNCXR_0220_0.txt  \n",
            " extracting: ChinaSet_AllFiles/ClinicalReadings/CHNCXR_0221_0.txt  \n",
            " extracting: ChinaSet_AllFiles/ClinicalReadings/CHNCXR_0222_0.txt  \n",
            " extracting: ChinaSet_AllFiles/ClinicalReadings/CHNCXR_0223_0.txt  \n",
            " extracting: ChinaSet_AllFiles/ClinicalReadings/CHNCXR_0224_0.txt  \n",
            " extracting: ChinaSet_AllFiles/ClinicalReadings/CHNCXR_0225_0.txt  \n",
            " extracting: ChinaSet_AllFiles/ClinicalReadings/CHNCXR_0226_0.txt  \n",
            " extracting: ChinaSet_AllFiles/ClinicalReadings/CHNCXR_0227_0.txt  \n",
            " extracting: ChinaSet_AllFiles/ClinicalReadings/CHNCXR_0228_0.txt  \n",
            " extracting: ChinaSet_AllFiles/ClinicalReadings/CHNCXR_0229_0.txt  \n",
            " extracting: ChinaSet_AllFiles/ClinicalReadings/CHNCXR_0230_0.txt  \n",
            " extracting: ChinaSet_AllFiles/ClinicalReadings/CHNCXR_0231_0.txt  \n",
            " extracting: ChinaSet_AllFiles/ClinicalReadings/CHNCXR_0232_0.txt  \n",
            " extracting: ChinaSet_AllFiles/ClinicalReadings/CHNCXR_0233_0.txt  \n",
            " extracting: ChinaSet_AllFiles/ClinicalReadings/CHNCXR_0234_0.txt  \n",
            " extracting: ChinaSet_AllFiles/ClinicalReadings/CHNCXR_0235_0.txt  \n",
            " extracting: ChinaSet_AllFiles/ClinicalReadings/CHNCXR_0236_0.txt  \n",
            " extracting: ChinaSet_AllFiles/ClinicalReadings/CHNCXR_0237_0.txt  \n",
            " extracting: ChinaSet_AllFiles/ClinicalReadings/CHNCXR_0238_0.txt  \n",
            " extracting: ChinaSet_AllFiles/ClinicalReadings/CHNCXR_0239_0.txt  \n",
            " extracting: ChinaSet_AllFiles/ClinicalReadings/CHNCXR_0240_0.txt  \n",
            " extracting: ChinaSet_AllFiles/ClinicalReadings/CHNCXR_0241_0.txt  \n",
            " extracting: ChinaSet_AllFiles/ClinicalReadings/CHNCXR_0242_0.txt  \n",
            " extracting: ChinaSet_AllFiles/ClinicalReadings/CHNCXR_0243_0.txt  \n",
            " extracting: ChinaSet_AllFiles/ClinicalReadings/CHNCXR_0244_0.txt  \n",
            " extracting: ChinaSet_AllFiles/ClinicalReadings/CHNCXR_0245_0.txt  \n",
            " extracting: ChinaSet_AllFiles/ClinicalReadings/CHNCXR_0246_0.txt  \n",
            " extracting: ChinaSet_AllFiles/ClinicalReadings/CHNCXR_0247_0.txt  \n",
            " extracting: ChinaSet_AllFiles/ClinicalReadings/CHNCXR_0248_0.txt  \n",
            " extracting: ChinaSet_AllFiles/ClinicalReadings/CHNCXR_0249_0.txt  \n",
            " extracting: ChinaSet_AllFiles/ClinicalReadings/CHNCXR_0250_0.txt  \n",
            " extracting: ChinaSet_AllFiles/ClinicalReadings/CHNCXR_0251_0.txt  \n",
            " extracting: ChinaSet_AllFiles/ClinicalReadings/CHNCXR_0252_0.txt  \n",
            " extracting: ChinaSet_AllFiles/ClinicalReadings/CHNCXR_0253_0.txt  \n",
            " extracting: ChinaSet_AllFiles/ClinicalReadings/CHNCXR_0254_0.txt  \n",
            " extracting: ChinaSet_AllFiles/ClinicalReadings/CHNCXR_0255_0.txt  \n",
            " extracting: ChinaSet_AllFiles/ClinicalReadings/CHNCXR_0256_0.txt  \n",
            " extracting: ChinaSet_AllFiles/ClinicalReadings/CHNCXR_0257_0.txt  \n",
            " extracting: ChinaSet_AllFiles/ClinicalReadings/CHNCXR_0258_0.txt  \n",
            " extracting: ChinaSet_AllFiles/ClinicalReadings/CHNCXR_0259_0.txt  \n",
            " extracting: ChinaSet_AllFiles/ClinicalReadings/CHNCXR_0260_0.txt  \n",
            " extracting: ChinaSet_AllFiles/ClinicalReadings/CHNCXR_0261_0.txt  \n",
            " extracting: ChinaSet_AllFiles/ClinicalReadings/CHNCXR_0262_0.txt  \n",
            " extracting: ChinaSet_AllFiles/ClinicalReadings/CHNCXR_0263_0.txt  \n",
            " extracting: ChinaSet_AllFiles/ClinicalReadings/CHNCXR_0264_0.txt  \n",
            " extracting: ChinaSet_AllFiles/ClinicalReadings/CHNCXR_0265_0.txt  \n",
            " extracting: ChinaSet_AllFiles/ClinicalReadings/CHNCXR_0266_0.txt  \n",
            " extracting: ChinaSet_AllFiles/ClinicalReadings/CHNCXR_0267_0.txt  \n",
            " extracting: ChinaSet_AllFiles/ClinicalReadings/CHNCXR_0268_0.txt  \n",
            " extracting: ChinaSet_AllFiles/ClinicalReadings/CHNCXR_0269_0.txt  \n",
            " extracting: ChinaSet_AllFiles/ClinicalReadings/CHNCXR_0270_0.txt  \n",
            " extracting: ChinaSet_AllFiles/ClinicalReadings/CHNCXR_0271_0.txt  \n",
            " extracting: ChinaSet_AllFiles/ClinicalReadings/CHNCXR_0272_0.txt  \n",
            " extracting: ChinaSet_AllFiles/ClinicalReadings/CHNCXR_0273_0.txt  \n",
            " extracting: ChinaSet_AllFiles/ClinicalReadings/CHNCXR_0274_0.txt  \n",
            " extracting: ChinaSet_AllFiles/ClinicalReadings/CHNCXR_0275_0.txt  \n",
            " extracting: ChinaSet_AllFiles/ClinicalReadings/CHNCXR_0276_0.txt  \n",
            " extracting: ChinaSet_AllFiles/ClinicalReadings/CHNCXR_0277_0.txt  \n",
            " extracting: ChinaSet_AllFiles/ClinicalReadings/CHNCXR_0278_0.txt  \n",
            " extracting: ChinaSet_AllFiles/ClinicalReadings/CHNCXR_0279_0.txt  \n",
            " extracting: ChinaSet_AllFiles/ClinicalReadings/CHNCXR_0280_0.txt  \n",
            " extracting: ChinaSet_AllFiles/ClinicalReadings/CHNCXR_0281_0.txt  \n",
            " extracting: ChinaSet_AllFiles/ClinicalReadings/CHNCXR_0282_0.txt  \n",
            " extracting: ChinaSet_AllFiles/ClinicalReadings/CHNCXR_0283_0.txt  \n",
            " extracting: ChinaSet_AllFiles/ClinicalReadings/CHNCXR_0284_0.txt  \n",
            " extracting: ChinaSet_AllFiles/ClinicalReadings/CHNCXR_0285_0.txt  \n",
            " extracting: ChinaSet_AllFiles/ClinicalReadings/CHNCXR_0286_0.txt  \n",
            " extracting: ChinaSet_AllFiles/ClinicalReadings/CHNCXR_0287_0.txt  \n",
            " extracting: ChinaSet_AllFiles/ClinicalReadings/CHNCXR_0288_0.txt  \n",
            " extracting: ChinaSet_AllFiles/ClinicalReadings/CHNCXR_0289_0.txt  \n",
            " extracting: ChinaSet_AllFiles/ClinicalReadings/CHNCXR_0290_0.txt  \n",
            " extracting: ChinaSet_AllFiles/ClinicalReadings/CHNCXR_0291_0.txt  \n",
            " extracting: ChinaSet_AllFiles/ClinicalReadings/CHNCXR_0292_0.txt  \n",
            " extracting: ChinaSet_AllFiles/ClinicalReadings/CHNCXR_0293_0.txt  \n",
            " extracting: ChinaSet_AllFiles/ClinicalReadings/CHNCXR_0294_0.txt  \n",
            " extracting: ChinaSet_AllFiles/ClinicalReadings/CHNCXR_0295_0.txt  \n",
            " extracting: ChinaSet_AllFiles/ClinicalReadings/CHNCXR_0296_0.txt  \n",
            " extracting: ChinaSet_AllFiles/ClinicalReadings/CHNCXR_0297_0.txt  \n",
            " extracting: ChinaSet_AllFiles/ClinicalReadings/CHNCXR_0298_0.txt  \n",
            " extracting: ChinaSet_AllFiles/ClinicalReadings/CHNCXR_0299_0.txt  \n",
            " extracting: ChinaSet_AllFiles/ClinicalReadings/CHNCXR_0300_0.txt  \n",
            " extracting: ChinaSet_AllFiles/ClinicalReadings/CHNCXR_0301_0.txt  \n",
            " extracting: ChinaSet_AllFiles/ClinicalReadings/CHNCXR_0302_0.txt  \n",
            " extracting: ChinaSet_AllFiles/ClinicalReadings/CHNCXR_0303_0.txt  \n",
            " extracting: ChinaSet_AllFiles/ClinicalReadings/CHNCXR_0304_0.txt  \n",
            " extracting: ChinaSet_AllFiles/ClinicalReadings/CHNCXR_0305_0.txt  \n",
            " extracting: ChinaSet_AllFiles/ClinicalReadings/CHNCXR_0306_0.txt  \n",
            " extracting: ChinaSet_AllFiles/ClinicalReadings/CHNCXR_0307_0.txt  \n",
            " extracting: ChinaSet_AllFiles/ClinicalReadings/CHNCXR_0308_0.txt  \n",
            " extracting: ChinaSet_AllFiles/ClinicalReadings/CHNCXR_0309_0.txt  \n",
            " extracting: ChinaSet_AllFiles/ClinicalReadings/CHNCXR_0310_0.txt  \n",
            " extracting: ChinaSet_AllFiles/ClinicalReadings/CHNCXR_0311_0.txt  \n",
            " extracting: ChinaSet_AllFiles/ClinicalReadings/CHNCXR_0312_0.txt  \n",
            " extracting: ChinaSet_AllFiles/ClinicalReadings/CHNCXR_0313_0.txt  \n",
            " extracting: ChinaSet_AllFiles/ClinicalReadings/CHNCXR_0314_0.txt  \n",
            " extracting: ChinaSet_AllFiles/ClinicalReadings/CHNCXR_0315_0.txt  \n",
            " extracting: ChinaSet_AllFiles/ClinicalReadings/CHNCXR_0316_0.txt  \n",
            " extracting: ChinaSet_AllFiles/ClinicalReadings/CHNCXR_0317_0.txt  \n",
            " extracting: ChinaSet_AllFiles/ClinicalReadings/CHNCXR_0318_0.txt  \n",
            " extracting: ChinaSet_AllFiles/ClinicalReadings/CHNCXR_0319_0.txt  \n",
            " extracting: ChinaSet_AllFiles/ClinicalReadings/CHNCXR_0320_0.txt  \n",
            " extracting: ChinaSet_AllFiles/ClinicalReadings/CHNCXR_0321_0.txt  \n",
            " extracting: ChinaSet_AllFiles/ClinicalReadings/CHNCXR_0322_0.txt  \n",
            " extracting: ChinaSet_AllFiles/ClinicalReadings/CHNCXR_0323_0.txt  \n",
            " extracting: ChinaSet_AllFiles/ClinicalReadings/CHNCXR_0324_0.txt  \n",
            " extracting: ChinaSet_AllFiles/ClinicalReadings/CHNCXR_0325_0.txt  \n",
            " extracting: ChinaSet_AllFiles/ClinicalReadings/CHNCXR_0326_0.txt  \n",
            " extracting: ChinaSet_AllFiles/ClinicalReadings/CHNCXR_0327_1.txt  \n",
            " extracting: ChinaSet_AllFiles/ClinicalReadings/CHNCXR_0328_1.txt  \n",
            " extracting: ChinaSet_AllFiles/ClinicalReadings/CHNCXR_0329_1.txt  \n",
            "  inflating: ChinaSet_AllFiles/ClinicalReadings/CHNCXR_0330_1.txt  \n",
            "  inflating: ChinaSet_AllFiles/ClinicalReadings/CHNCXR_0331_1.txt  \n",
            " extracting: ChinaSet_AllFiles/ClinicalReadings/CHNCXR_0332_1.txt  \n",
            " extracting: ChinaSet_AllFiles/ClinicalReadings/CHNCXR_0333_1.txt  \n",
            " extracting: ChinaSet_AllFiles/ClinicalReadings/CHNCXR_0334_1.txt  \n",
            " extracting: ChinaSet_AllFiles/ClinicalReadings/CHNCXR_0335_1.txt  \n",
            " extracting: ChinaSet_AllFiles/ClinicalReadings/CHNCXR_0336_1.txt  \n",
            " extracting: ChinaSet_AllFiles/ClinicalReadings/CHNCXR_0337_1.txt  \n",
            " extracting: ChinaSet_AllFiles/ClinicalReadings/CHNCXR_0338_1.txt  \n",
            " extracting: ChinaSet_AllFiles/ClinicalReadings/CHNCXR_0339_1.txt  \n",
            " extracting: ChinaSet_AllFiles/ClinicalReadings/CHNCXR_0340_1.txt  \n",
            " extracting: ChinaSet_AllFiles/ClinicalReadings/CHNCXR_0341_1.txt  \n",
            " extracting: ChinaSet_AllFiles/ClinicalReadings/CHNCXR_0342_1.txt  \n",
            " extracting: ChinaSet_AllFiles/ClinicalReadings/CHNCXR_0343_1.txt  \n",
            " extracting: ChinaSet_AllFiles/ClinicalReadings/CHNCXR_0344_1.txt  \n",
            " extracting: ChinaSet_AllFiles/ClinicalReadings/CHNCXR_0345_1.txt  \n",
            " extracting: ChinaSet_AllFiles/ClinicalReadings/CHNCXR_0346_1.txt  \n",
            " extracting: ChinaSet_AllFiles/ClinicalReadings/CHNCXR_0347_1.txt  \n",
            "  inflating: ChinaSet_AllFiles/ClinicalReadings/CHNCXR_0348_1.txt  \n",
            "  inflating: ChinaSet_AllFiles/ClinicalReadings/CHNCXR_0349_1.txt  \n",
            " extracting: ChinaSet_AllFiles/ClinicalReadings/CHNCXR_0350_1.txt  \n",
            " extracting: ChinaSet_AllFiles/ClinicalReadings/CHNCXR_0351_1.txt  \n",
            " extracting: ChinaSet_AllFiles/ClinicalReadings/CHNCXR_0352_1.txt  \n",
            " extracting: ChinaSet_AllFiles/ClinicalReadings/CHNCXR_0353_1.txt  \n",
            " extracting: ChinaSet_AllFiles/ClinicalReadings/CHNCXR_0354_1.txt  \n",
            " extracting: ChinaSet_AllFiles/ClinicalReadings/CHNCXR_0355_1.txt  \n",
            " extracting: ChinaSet_AllFiles/ClinicalReadings/CHNCXR_0356_1.txt  \n",
            " extracting: ChinaSet_AllFiles/ClinicalReadings/CHNCXR_0357_1.txt  \n",
            " extracting: ChinaSet_AllFiles/ClinicalReadings/CHNCXR_0358_1.txt  \n",
            " extracting: ChinaSet_AllFiles/ClinicalReadings/CHNCXR_0359_1.txt  \n",
            " extracting: ChinaSet_AllFiles/ClinicalReadings/CHNCXR_0360_1.txt  \n",
            "  inflating: ChinaSet_AllFiles/ClinicalReadings/CHNCXR_0361_1.txt  \n",
            " extracting: ChinaSet_AllFiles/ClinicalReadings/CHNCXR_0362_1.txt  \n",
            " extracting: ChinaSet_AllFiles/ClinicalReadings/CHNCXR_0363_1.txt  \n",
            " extracting: ChinaSet_AllFiles/ClinicalReadings/CHNCXR_0364_1.txt  \n",
            "  inflating: ChinaSet_AllFiles/ClinicalReadings/CHNCXR_0365_1.txt  \n",
            " extracting: ChinaSet_AllFiles/ClinicalReadings/CHNCXR_0366_1.txt  \n",
            " extracting: ChinaSet_AllFiles/ClinicalReadings/CHNCXR_0367_1.txt  \n",
            " extracting: ChinaSet_AllFiles/ClinicalReadings/CHNCXR_0368_1.txt  \n",
            " extracting: ChinaSet_AllFiles/ClinicalReadings/CHNCXR_0369_1.txt  \n",
            "  inflating: ChinaSet_AllFiles/ClinicalReadings/CHNCXR_0370_1.txt  \n",
            " extracting: ChinaSet_AllFiles/ClinicalReadings/CHNCXR_0371_1.txt  \n",
            " extracting: ChinaSet_AllFiles/ClinicalReadings/CHNCXR_0372_1.txt  \n",
            " extracting: ChinaSet_AllFiles/ClinicalReadings/CHNCXR_0373_1.txt  \n",
            " extracting: ChinaSet_AllFiles/ClinicalReadings/CHNCXR_0374_1.txt  \n",
            " extracting: ChinaSet_AllFiles/ClinicalReadings/CHNCXR_0375_1.txt  \n",
            " extracting: ChinaSet_AllFiles/ClinicalReadings/CHNCXR_0376_1.txt  \n",
            " extracting: ChinaSet_AllFiles/ClinicalReadings/CHNCXR_0377_1.txt  \n",
            " extracting: ChinaSet_AllFiles/ClinicalReadings/CHNCXR_0378_1.txt  \n",
            " extracting: ChinaSet_AllFiles/ClinicalReadings/CHNCXR_0379_1.txt  \n",
            "  inflating: ChinaSet_AllFiles/ClinicalReadings/CHNCXR_0380_1.txt  \n",
            "  inflating: ChinaSet_AllFiles/ClinicalReadings/CHNCXR_0381_1.txt  \n",
            " extracting: ChinaSet_AllFiles/ClinicalReadings/CHNCXR_0382_1.txt  \n",
            " extracting: ChinaSet_AllFiles/ClinicalReadings/CHNCXR_0383_1.txt  \n",
            " extracting: ChinaSet_AllFiles/ClinicalReadings/CHNCXR_0384_1.txt  \n",
            " extracting: ChinaSet_AllFiles/ClinicalReadings/CHNCXR_0385_1.txt  \n",
            " extracting: ChinaSet_AllFiles/ClinicalReadings/CHNCXR_0386_1.txt  \n",
            " extracting: ChinaSet_AllFiles/ClinicalReadings/CHNCXR_0387_1.txt  \n",
            " extracting: ChinaSet_AllFiles/ClinicalReadings/CHNCXR_0388_1.txt  \n",
            "  inflating: ChinaSet_AllFiles/ClinicalReadings/CHNCXR_0389_1.txt  \n",
            " extracting: ChinaSet_AllFiles/ClinicalReadings/CHNCXR_0390_1.txt  \n",
            " extracting: ChinaSet_AllFiles/ClinicalReadings/CHNCXR_0391_1.txt  \n",
            " extracting: ChinaSet_AllFiles/ClinicalReadings/CHNCXR_0392_1.txt  \n",
            " extracting: ChinaSet_AllFiles/ClinicalReadings/CHNCXR_0393_1.txt  \n",
            " extracting: ChinaSet_AllFiles/ClinicalReadings/CHNCXR_0394_1.txt  \n",
            " extracting: ChinaSet_AllFiles/ClinicalReadings/CHNCXR_0395_1.txt  \n",
            " extracting: ChinaSet_AllFiles/ClinicalReadings/CHNCXR_0396_1.txt  \n",
            " extracting: ChinaSet_AllFiles/ClinicalReadings/CHNCXR_0397_1.txt  \n",
            " extracting: ChinaSet_AllFiles/ClinicalReadings/CHNCXR_0398_1.txt  \n",
            " extracting: ChinaSet_AllFiles/ClinicalReadings/CHNCXR_0399_1.txt  \n",
            " extracting: ChinaSet_AllFiles/ClinicalReadings/CHNCXR_0400_1.txt  \n",
            " extracting: ChinaSet_AllFiles/ClinicalReadings/CHNCXR_0401_1.txt  \n",
            " extracting: ChinaSet_AllFiles/ClinicalReadings/CHNCXR_0402_1.txt  \n",
            "  inflating: ChinaSet_AllFiles/ClinicalReadings/CHNCXR_0403_1.txt  \n",
            " extracting: ChinaSet_AllFiles/ClinicalReadings/CHNCXR_0404_1.txt  \n",
            " extracting: ChinaSet_AllFiles/ClinicalReadings/CHNCXR_0405_1.txt  \n",
            " extracting: ChinaSet_AllFiles/ClinicalReadings/CHNCXR_0406_1.txt  \n",
            " extracting: ChinaSet_AllFiles/ClinicalReadings/CHNCXR_0407_1.txt  \n",
            " extracting: ChinaSet_AllFiles/ClinicalReadings/CHNCXR_0408_1.txt  \n",
            " extracting: ChinaSet_AllFiles/ClinicalReadings/CHNCXR_0409_1.txt  \n",
            " extracting: ChinaSet_AllFiles/ClinicalReadings/CHNCXR_0410_1.txt  \n",
            " extracting: ChinaSet_AllFiles/ClinicalReadings/CHNCXR_0411_1.txt  \n",
            " extracting: ChinaSet_AllFiles/ClinicalReadings/CHNCXR_0412_1.txt  \n",
            " extracting: ChinaSet_AllFiles/ClinicalReadings/CHNCXR_0413_1.txt  \n",
            " extracting: ChinaSet_AllFiles/ClinicalReadings/CHNCXR_0414_1.txt  \n",
            " extracting: ChinaSet_AllFiles/ClinicalReadings/CHNCXR_0415_1.txt  \n",
            " extracting: ChinaSet_AllFiles/ClinicalReadings/CHNCXR_0416_1.txt  \n",
            " extracting: ChinaSet_AllFiles/ClinicalReadings/CHNCXR_0417_1.txt  \n",
            " extracting: ChinaSet_AllFiles/ClinicalReadings/CHNCXR_0418_1.txt  \n",
            " extracting: ChinaSet_AllFiles/ClinicalReadings/CHNCXR_0419_1.txt  \n",
            " extracting: ChinaSet_AllFiles/ClinicalReadings/CHNCXR_0420_1.txt  \n",
            " extracting: ChinaSet_AllFiles/ClinicalReadings/CHNCXR_0421_1.txt  \n",
            " extracting: ChinaSet_AllFiles/ClinicalReadings/CHNCXR_0422_1.txt  \n",
            " extracting: ChinaSet_AllFiles/ClinicalReadings/CHNCXR_0423_1.txt  \n",
            "  inflating: ChinaSet_AllFiles/ClinicalReadings/CHNCXR_0424_1.txt  \n",
            " extracting: ChinaSet_AllFiles/ClinicalReadings/CHNCXR_0425_1.txt  \n",
            " extracting: ChinaSet_AllFiles/ClinicalReadings/CHNCXR_0426_1.txt  \n",
            " extracting: ChinaSet_AllFiles/ClinicalReadings/CHNCXR_0427_1.txt  \n",
            " extracting: ChinaSet_AllFiles/ClinicalReadings/CHNCXR_0428_1.txt  \n",
            " extracting: ChinaSet_AllFiles/ClinicalReadings/CHNCXR_0429_1.txt  \n",
            " extracting: ChinaSet_AllFiles/ClinicalReadings/CHNCXR_0430_1.txt  \n",
            " extracting: ChinaSet_AllFiles/ClinicalReadings/CHNCXR_0431_1.txt  \n",
            " extracting: ChinaSet_AllFiles/ClinicalReadings/CHNCXR_0432_1.txt  \n",
            " extracting: ChinaSet_AllFiles/ClinicalReadings/CHNCXR_0433_1.txt  \n",
            " extracting: ChinaSet_AllFiles/ClinicalReadings/CHNCXR_0434_1.txt  \n",
            "  inflating: ChinaSet_AllFiles/ClinicalReadings/CHNCXR_0435_1.txt  \n",
            " extracting: ChinaSet_AllFiles/ClinicalReadings/CHNCXR_0436_1.txt  \n",
            " extracting: ChinaSet_AllFiles/ClinicalReadings/CHNCXR_0437_1.txt  \n",
            " extracting: ChinaSet_AllFiles/ClinicalReadings/CHNCXR_0438_1.txt  \n",
            " extracting: ChinaSet_AllFiles/ClinicalReadings/CHNCXR_0439_1.txt  \n",
            " extracting: ChinaSet_AllFiles/ClinicalReadings/CHNCXR_0440_1.txt  \n",
            "  inflating: ChinaSet_AllFiles/ClinicalReadings/CHNCXR_0441_1.txt  \n",
            " extracting: ChinaSet_AllFiles/ClinicalReadings/CHNCXR_0442_1.txt  \n",
            " extracting: ChinaSet_AllFiles/ClinicalReadings/CHNCXR_0443_1.txt  \n",
            " extracting: ChinaSet_AllFiles/ClinicalReadings/CHNCXR_0444_1.txt  \n",
            " extracting: ChinaSet_AllFiles/ClinicalReadings/CHNCXR_0445_1.txt  \n",
            " extracting: ChinaSet_AllFiles/ClinicalReadings/CHNCXR_0446_1.txt  \n",
            " extracting: ChinaSet_AllFiles/ClinicalReadings/CHNCXR_0447_1.txt  \n",
            " extracting: ChinaSet_AllFiles/ClinicalReadings/CHNCXR_0448_1.txt  \n",
            " extracting: ChinaSet_AllFiles/ClinicalReadings/CHNCXR_0449_1.txt  \n",
            " extracting: ChinaSet_AllFiles/ClinicalReadings/CHNCXR_0450_1.txt  \n",
            " extracting: ChinaSet_AllFiles/ClinicalReadings/CHNCXR_0451_1.txt  \n",
            " extracting: ChinaSet_AllFiles/ClinicalReadings/CHNCXR_0452_1.txt  \n",
            " extracting: ChinaSet_AllFiles/ClinicalReadings/CHNCXR_0453_1.txt  \n",
            " extracting: ChinaSet_AllFiles/ClinicalReadings/CHNCXR_0454_1.txt  \n",
            " extracting: ChinaSet_AllFiles/ClinicalReadings/CHNCXR_0455_1.txt  \n",
            " extracting: ChinaSet_AllFiles/ClinicalReadings/CHNCXR_0456_1.txt  \n",
            " extracting: ChinaSet_AllFiles/ClinicalReadings/CHNCXR_0457_1.txt  \n",
            " extracting: ChinaSet_AllFiles/ClinicalReadings/CHNCXR_0458_1.txt  \n",
            " extracting: ChinaSet_AllFiles/ClinicalReadings/CHNCXR_0459_1.txt  \n",
            " extracting: ChinaSet_AllFiles/ClinicalReadings/CHNCXR_0460_1.txt  \n",
            " extracting: ChinaSet_AllFiles/ClinicalReadings/CHNCXR_0461_1.txt  \n",
            " extracting: ChinaSet_AllFiles/ClinicalReadings/CHNCXR_0462_1.txt  \n",
            " extracting: ChinaSet_AllFiles/ClinicalReadings/CHNCXR_0463_1.txt  \n",
            " extracting: ChinaSet_AllFiles/ClinicalReadings/CHNCXR_0464_1.txt  \n",
            " extracting: ChinaSet_AllFiles/ClinicalReadings/CHNCXR_0465_1.txt  \n",
            " extracting: ChinaSet_AllFiles/ClinicalReadings/CHNCXR_0466_1.txt  \n",
            " extracting: ChinaSet_AllFiles/ClinicalReadings/CHNCXR_0467_1.txt  \n",
            " extracting: ChinaSet_AllFiles/ClinicalReadings/CHNCXR_0468_1.txt  \n",
            " extracting: ChinaSet_AllFiles/ClinicalReadings/CHNCXR_0469_1.txt  \n",
            " extracting: ChinaSet_AllFiles/ClinicalReadings/CHNCXR_0470_1.txt  \n",
            " extracting: ChinaSet_AllFiles/ClinicalReadings/CHNCXR_0471_1.txt  \n",
            " extracting: ChinaSet_AllFiles/ClinicalReadings/CHNCXR_0472_1.txt  \n",
            " extracting: ChinaSet_AllFiles/ClinicalReadings/CHNCXR_0473_1.txt  \n",
            " extracting: ChinaSet_AllFiles/ClinicalReadings/CHNCXR_0474_1.txt  \n",
            " extracting: ChinaSet_AllFiles/ClinicalReadings/CHNCXR_0475_1.txt  \n",
            " extracting: ChinaSet_AllFiles/ClinicalReadings/CHNCXR_0476_1.txt  \n",
            " extracting: ChinaSet_AllFiles/ClinicalReadings/CHNCXR_0477_1.txt  \n",
            " extracting: ChinaSet_AllFiles/ClinicalReadings/CHNCXR_0478_1.txt  \n",
            " extracting: ChinaSet_AllFiles/ClinicalReadings/CHNCXR_0479_1.txt  \n",
            " extracting: ChinaSet_AllFiles/ClinicalReadings/CHNCXR_0480_1.txt  \n",
            " extracting: ChinaSet_AllFiles/ClinicalReadings/CHNCXR_0481_1.txt  \n",
            " extracting: ChinaSet_AllFiles/ClinicalReadings/CHNCXR_0482_1.txt  \n",
            " extracting: ChinaSet_AllFiles/ClinicalReadings/CHNCXR_0483_1.txt  \n",
            " extracting: ChinaSet_AllFiles/ClinicalReadings/CHNCXR_0484_1.txt  \n",
            " extracting: ChinaSet_AllFiles/ClinicalReadings/CHNCXR_0485_1.txt  \n",
            " extracting: ChinaSet_AllFiles/ClinicalReadings/CHNCXR_0486_1.txt  \n",
            " extracting: ChinaSet_AllFiles/ClinicalReadings/CHNCXR_0487_1.txt  \n",
            " extracting: ChinaSet_AllFiles/ClinicalReadings/CHNCXR_0488_1.txt  \n",
            " extracting: ChinaSet_AllFiles/ClinicalReadings/CHNCXR_0489_1.txt  \n",
            " extracting: ChinaSet_AllFiles/ClinicalReadings/CHNCXR_0490_1.txt  \n",
            " extracting: ChinaSet_AllFiles/ClinicalReadings/CHNCXR_0491_1.txt  \n",
            " extracting: ChinaSet_AllFiles/ClinicalReadings/CHNCXR_0492_1.txt  \n",
            " extracting: ChinaSet_AllFiles/ClinicalReadings/CHNCXR_0493_1.txt  \n",
            " extracting: ChinaSet_AllFiles/ClinicalReadings/CHNCXR_0494_1.txt  \n",
            " extracting: ChinaSet_AllFiles/ClinicalReadings/CHNCXR_0495_1.txt  \n",
            " extracting: ChinaSet_AllFiles/ClinicalReadings/CHNCXR_0496_1.txt  \n",
            " extracting: ChinaSet_AllFiles/ClinicalReadings/CHNCXR_0497_1.txt  \n",
            " extracting: ChinaSet_AllFiles/ClinicalReadings/CHNCXR_0498_1.txt  \n",
            " extracting: ChinaSet_AllFiles/ClinicalReadings/CHNCXR_0499_1.txt  \n",
            " extracting: ChinaSet_AllFiles/ClinicalReadings/CHNCXR_0500_1.txt  \n",
            " extracting: ChinaSet_AllFiles/ClinicalReadings/CHNCXR_0501_1.txt  \n",
            " extracting: ChinaSet_AllFiles/ClinicalReadings/CHNCXR_0502_1.txt  \n",
            " extracting: ChinaSet_AllFiles/ClinicalReadings/CHNCXR_0503_1.txt  \n",
            " extracting: ChinaSet_AllFiles/ClinicalReadings/CHNCXR_0504_1.txt  \n",
            " extracting: ChinaSet_AllFiles/ClinicalReadings/CHNCXR_0505_1.txt  \n",
            " extracting: ChinaSet_AllFiles/ClinicalReadings/CHNCXR_0506_1.txt  \n",
            " extracting: ChinaSet_AllFiles/ClinicalReadings/CHNCXR_0507_1.txt  \n",
            " extracting: ChinaSet_AllFiles/ClinicalReadings/CHNCXR_0508_1.txt  \n",
            " extracting: ChinaSet_AllFiles/ClinicalReadings/CHNCXR_0509_1.txt  \n",
            " extracting: ChinaSet_AllFiles/ClinicalReadings/CHNCXR_0510_1.txt  \n",
            " extracting: ChinaSet_AllFiles/ClinicalReadings/CHNCXR_0511_1.txt  \n",
            " extracting: ChinaSet_AllFiles/ClinicalReadings/CHNCXR_0512_1.txt  \n",
            " extracting: ChinaSet_AllFiles/ClinicalReadings/CHNCXR_0513_1.txt  \n",
            " extracting: ChinaSet_AllFiles/ClinicalReadings/CHNCXR_0514_1.txt  \n",
            " extracting: ChinaSet_AllFiles/ClinicalReadings/CHNCXR_0515_1.txt  \n",
            " extracting: ChinaSet_AllFiles/ClinicalReadings/CHNCXR_0516_1.txt  \n",
            " extracting: ChinaSet_AllFiles/ClinicalReadings/CHNCXR_0517_1.txt  \n",
            " extracting: ChinaSet_AllFiles/ClinicalReadings/CHNCXR_0518_1.txt  \n",
            " extracting: ChinaSet_AllFiles/ClinicalReadings/CHNCXR_0519_1.txt  \n",
            " extracting: ChinaSet_AllFiles/ClinicalReadings/CHNCXR_0520_1.txt  \n",
            " extracting: ChinaSet_AllFiles/ClinicalReadings/CHNCXR_0521_1.txt  \n",
            " extracting: ChinaSet_AllFiles/ClinicalReadings/CHNCXR_0522_1.txt  \n",
            " extracting: ChinaSet_AllFiles/ClinicalReadings/CHNCXR_0523_1.txt  \n",
            " extracting: ChinaSet_AllFiles/ClinicalReadings/CHNCXR_0524_1.txt  \n",
            " extracting: ChinaSet_AllFiles/ClinicalReadings/CHNCXR_0525_1.txt  \n",
            " extracting: ChinaSet_AllFiles/ClinicalReadings/CHNCXR_0526_1.txt  \n",
            " extracting: ChinaSet_AllFiles/ClinicalReadings/CHNCXR_0527_1.txt  \n",
            " extracting: ChinaSet_AllFiles/ClinicalReadings/CHNCXR_0528_1.txt  \n",
            " extracting: ChinaSet_AllFiles/ClinicalReadings/CHNCXR_0529_1.txt  \n",
            " extracting: ChinaSet_AllFiles/ClinicalReadings/CHNCXR_0530_1.txt  \n",
            " extracting: ChinaSet_AllFiles/ClinicalReadings/CHNCXR_0531_1.txt  \n",
            " extracting: ChinaSet_AllFiles/ClinicalReadings/CHNCXR_0532_1.txt  \n",
            " extracting: ChinaSet_AllFiles/ClinicalReadings/CHNCXR_0533_1.txt  \n",
            " extracting: ChinaSet_AllFiles/ClinicalReadings/CHNCXR_0534_1.txt  \n",
            " extracting: ChinaSet_AllFiles/ClinicalReadings/CHNCXR_0535_1.txt  \n",
            " extracting: ChinaSet_AllFiles/ClinicalReadings/CHNCXR_0536_1.txt  \n",
            " extracting: ChinaSet_AllFiles/ClinicalReadings/CHNCXR_0537_1.txt  \n",
            " extracting: ChinaSet_AllFiles/ClinicalReadings/CHNCXR_0538_1.txt  \n",
            " extracting: ChinaSet_AllFiles/ClinicalReadings/CHNCXR_0539_1.txt  \n",
            " extracting: ChinaSet_AllFiles/ClinicalReadings/CHNCXR_0540_1.txt  \n",
            " extracting: ChinaSet_AllFiles/ClinicalReadings/CHNCXR_0541_1.txt  \n",
            " extracting: ChinaSet_AllFiles/ClinicalReadings/CHNCXR_0542_1.txt  \n",
            " extracting: ChinaSet_AllFiles/ClinicalReadings/CHNCXR_0543_1.txt  \n",
            " extracting: ChinaSet_AllFiles/ClinicalReadings/CHNCXR_0544_1.txt  \n",
            " extracting: ChinaSet_AllFiles/ClinicalReadings/CHNCXR_0545_1.txt  \n",
            " extracting: ChinaSet_AllFiles/ClinicalReadings/CHNCXR_0546_1.txt  \n",
            " extracting: ChinaSet_AllFiles/ClinicalReadings/CHNCXR_0547_1.txt  \n",
            " extracting: ChinaSet_AllFiles/ClinicalReadings/CHNCXR_0548_1.txt  \n",
            " extracting: ChinaSet_AllFiles/ClinicalReadings/CHNCXR_0549_1.txt  \n",
            " extracting: ChinaSet_AllFiles/ClinicalReadings/CHNCXR_0550_1.txt  \n",
            " extracting: ChinaSet_AllFiles/ClinicalReadings/CHNCXR_0551_1.txt  \n",
            " extracting: ChinaSet_AllFiles/ClinicalReadings/CHNCXR_0552_1.txt  \n",
            " extracting: ChinaSet_AllFiles/ClinicalReadings/CHNCXR_0553_1.txt  \n",
            " extracting: ChinaSet_AllFiles/ClinicalReadings/CHNCXR_0554_1.txt  \n",
            " extracting: ChinaSet_AllFiles/ClinicalReadings/CHNCXR_0555_1.txt  \n",
            " extracting: ChinaSet_AllFiles/ClinicalReadings/CHNCXR_0556_1.txt  \n",
            " extracting: ChinaSet_AllFiles/ClinicalReadings/CHNCXR_0557_1.txt  \n",
            " extracting: ChinaSet_AllFiles/ClinicalReadings/CHNCXR_0558_1.txt  \n",
            " extracting: ChinaSet_AllFiles/ClinicalReadings/CHNCXR_0559_1.txt  \n",
            " extracting: ChinaSet_AllFiles/ClinicalReadings/CHNCXR_0560_1.txt  \n",
            " extracting: ChinaSet_AllFiles/ClinicalReadings/CHNCXR_0561_1.txt  \n",
            " extracting: ChinaSet_AllFiles/ClinicalReadings/CHNCXR_0562_1.txt  \n",
            " extracting: ChinaSet_AllFiles/ClinicalReadings/CHNCXR_0563_1.txt  \n",
            " extracting: ChinaSet_AllFiles/ClinicalReadings/CHNCXR_0564_1.txt  \n",
            " extracting: ChinaSet_AllFiles/ClinicalReadings/CHNCXR_0565_1.txt  \n",
            " extracting: ChinaSet_AllFiles/ClinicalReadings/CHNCXR_0566_1.txt  \n",
            " extracting: ChinaSet_AllFiles/ClinicalReadings/CHNCXR_0567_1.txt  \n",
            " extracting: ChinaSet_AllFiles/ClinicalReadings/CHNCXR_0568_1.txt  \n",
            " extracting: ChinaSet_AllFiles/ClinicalReadings/CHNCXR_0569_1.txt  \n",
            " extracting: ChinaSet_AllFiles/ClinicalReadings/CHNCXR_0570_1.txt  \n",
            " extracting: ChinaSet_AllFiles/ClinicalReadings/CHNCXR_0571_1.txt  \n",
            " extracting: ChinaSet_AllFiles/ClinicalReadings/CHNCXR_0572_1.txt  \n",
            " extracting: ChinaSet_AllFiles/ClinicalReadings/CHNCXR_0573_1.txt  \n",
            " extracting: ChinaSet_AllFiles/ClinicalReadings/CHNCXR_0574_1.txt  \n",
            " extracting: ChinaSet_AllFiles/ClinicalReadings/CHNCXR_0575_1.txt  \n",
            " extracting: ChinaSet_AllFiles/ClinicalReadings/CHNCXR_0576_1.txt  \n",
            " extracting: ChinaSet_AllFiles/ClinicalReadings/CHNCXR_0577_1.txt  \n",
            " extracting: ChinaSet_AllFiles/ClinicalReadings/CHNCXR_0578_1.txt  \n",
            " extracting: ChinaSet_AllFiles/ClinicalReadings/CHNCXR_0579_1.txt  \n",
            " extracting: ChinaSet_AllFiles/ClinicalReadings/CHNCXR_0580_1.txt  \n",
            " extracting: ChinaSet_AllFiles/ClinicalReadings/CHNCXR_0581_1.txt  \n",
            " extracting: ChinaSet_AllFiles/ClinicalReadings/CHNCXR_0582_1.txt  \n",
            " extracting: ChinaSet_AllFiles/ClinicalReadings/CHNCXR_0583_1.txt  \n",
            " extracting: ChinaSet_AllFiles/ClinicalReadings/CHNCXR_0584_1.txt  \n",
            " extracting: ChinaSet_AllFiles/ClinicalReadings/CHNCXR_0585_1.txt  \n",
            " extracting: ChinaSet_AllFiles/ClinicalReadings/CHNCXR_0586_1.txt  \n",
            " extracting: ChinaSet_AllFiles/ClinicalReadings/CHNCXR_0587_1.txt  \n",
            " extracting: ChinaSet_AllFiles/ClinicalReadings/CHNCXR_0588_1.txt  \n",
            " extracting: ChinaSet_AllFiles/ClinicalReadings/CHNCXR_0589_1.txt  \n",
            " extracting: ChinaSet_AllFiles/ClinicalReadings/CHNCXR_0590_1.txt  \n",
            " extracting: ChinaSet_AllFiles/ClinicalReadings/CHNCXR_0591_1.txt  \n",
            " extracting: ChinaSet_AllFiles/ClinicalReadings/CHNCXR_0592_1.txt  \n",
            " extracting: ChinaSet_AllFiles/ClinicalReadings/CHNCXR_0593_1.txt  \n",
            " extracting: ChinaSet_AllFiles/ClinicalReadings/CHNCXR_0594_1.txt  \n",
            " extracting: ChinaSet_AllFiles/ClinicalReadings/CHNCXR_0595_1.txt  \n",
            " extracting: ChinaSet_AllFiles/ClinicalReadings/CHNCXR_0596_1.txt  \n",
            " extracting: ChinaSet_AllFiles/ClinicalReadings/CHNCXR_0597_1.txt  \n",
            " extracting: ChinaSet_AllFiles/ClinicalReadings/CHNCXR_0598_1.txt  \n",
            " extracting: ChinaSet_AllFiles/ClinicalReadings/CHNCXR_0599_1.txt  \n",
            " extracting: ChinaSet_AllFiles/ClinicalReadings/CHNCXR_0600_1.txt  \n",
            " extracting: ChinaSet_AllFiles/ClinicalReadings/CHNCXR_0601_1.txt  \n",
            " extracting: ChinaSet_AllFiles/ClinicalReadings/CHNCXR_0602_1.txt  \n",
            " extracting: ChinaSet_AllFiles/ClinicalReadings/CHNCXR_0603_1.txt  \n",
            " extracting: ChinaSet_AllFiles/ClinicalReadings/CHNCXR_0604_1.txt  \n",
            " extracting: ChinaSet_AllFiles/ClinicalReadings/CHNCXR_0605_1.txt  \n",
            " extracting: ChinaSet_AllFiles/ClinicalReadings/CHNCXR_0606_1.txt  \n",
            " extracting: ChinaSet_AllFiles/ClinicalReadings/CHNCXR_0607_1.txt  \n",
            " extracting: ChinaSet_AllFiles/ClinicalReadings/CHNCXR_0608_1.txt  \n",
            " extracting: ChinaSet_AllFiles/ClinicalReadings/CHNCXR_0609_1.txt  \n",
            " extracting: ChinaSet_AllFiles/ClinicalReadings/CHNCXR_0610_1.txt  \n",
            " extracting: ChinaSet_AllFiles/ClinicalReadings/CHNCXR_0611_1.txt  \n",
            " extracting: ChinaSet_AllFiles/ClinicalReadings/CHNCXR_0612_1.txt  \n",
            " extracting: ChinaSet_AllFiles/ClinicalReadings/CHNCXR_0613_1.txt  \n",
            " extracting: ChinaSet_AllFiles/ClinicalReadings/CHNCXR_0614_1.txt  \n",
            " extracting: ChinaSet_AllFiles/ClinicalReadings/CHNCXR_0615_1.txt  \n",
            " extracting: ChinaSet_AllFiles/ClinicalReadings/CHNCXR_0616_1.txt  \n",
            " extracting: ChinaSet_AllFiles/ClinicalReadings/CHNCXR_0617_1.txt  \n",
            " extracting: ChinaSet_AllFiles/ClinicalReadings/CHNCXR_0618_1.txt  \n",
            " extracting: ChinaSet_AllFiles/ClinicalReadings/CHNCXR_0619_1.txt  \n",
            " extracting: ChinaSet_AllFiles/ClinicalReadings/CHNCXR_0620_1.txt  \n",
            " extracting: ChinaSet_AllFiles/ClinicalReadings/CHNCXR_0621_1.txt  \n",
            " extracting: ChinaSet_AllFiles/ClinicalReadings/CHNCXR_0622_1.txt  \n",
            " extracting: ChinaSet_AllFiles/ClinicalReadings/CHNCXR_0623_1.txt  \n",
            " extracting: ChinaSet_AllFiles/ClinicalReadings/CHNCXR_0624_1.txt  \n",
            " extracting: ChinaSet_AllFiles/ClinicalReadings/CHNCXR_0625_1.txt  \n",
            " extracting: ChinaSet_AllFiles/ClinicalReadings/CHNCXR_0626_1.txt  \n",
            " extracting: ChinaSet_AllFiles/ClinicalReadings/CHNCXR_0627_1.txt  \n",
            " extracting: ChinaSet_AllFiles/ClinicalReadings/CHNCXR_0628_1.txt  \n",
            " extracting: ChinaSet_AllFiles/ClinicalReadings/CHNCXR_0629_1.txt  \n",
            " extracting: ChinaSet_AllFiles/ClinicalReadings/CHNCXR_0630_1.txt  \n",
            " extracting: ChinaSet_AllFiles/ClinicalReadings/CHNCXR_0631_1.txt  \n",
            " extracting: ChinaSet_AllFiles/ClinicalReadings/CHNCXR_0632_1.txt  \n",
            " extracting: ChinaSet_AllFiles/ClinicalReadings/CHNCXR_0633_1.txt  \n",
            " extracting: ChinaSet_AllFiles/ClinicalReadings/CHNCXR_0634_1.txt  \n",
            " extracting: ChinaSet_AllFiles/ClinicalReadings/CHNCXR_0635_1.txt  \n",
            " extracting: ChinaSet_AllFiles/ClinicalReadings/CHNCXR_0636_1.txt  \n",
            " extracting: ChinaSet_AllFiles/ClinicalReadings/CHNCXR_0637_1.txt  \n",
            " extracting: ChinaSet_AllFiles/ClinicalReadings/CHNCXR_0638_1.txt  \n",
            " extracting: ChinaSet_AllFiles/ClinicalReadings/CHNCXR_0639_1.txt  \n",
            " extracting: ChinaSet_AllFiles/ClinicalReadings/CHNCXR_0640_1.txt  \n",
            " extracting: ChinaSet_AllFiles/ClinicalReadings/CHNCXR_0641_1.txt  \n",
            " extracting: ChinaSet_AllFiles/ClinicalReadings/CHNCXR_0642_1.txt  \n",
            " extracting: ChinaSet_AllFiles/ClinicalReadings/CHNCXR_0643_1.txt  \n",
            "  inflating: ChinaSet_AllFiles/ClinicalReadings/CHNCXR_0644_1.txt  \n",
            "  inflating: ChinaSet_AllFiles/ClinicalReadings/CHNCXR_0645_1.txt  \n",
            " extracting: ChinaSet_AllFiles/ClinicalReadings/CHNCXR_0646_1.txt  \n",
            "  inflating: ChinaSet_AllFiles/ClinicalReadings/CHNCXR_0647_1.txt  \n",
            " extracting: ChinaSet_AllFiles/ClinicalReadings/CHNCXR_0648_1.txt  \n",
            " extracting: ChinaSet_AllFiles/ClinicalReadings/CHNCXR_0649_1.txt  \n",
            " extracting: ChinaSet_AllFiles/ClinicalReadings/CHNCXR_0650_1.txt  \n",
            " extracting: ChinaSet_AllFiles/ClinicalReadings/CHNCXR_0651_1.txt  \n",
            " extracting: ChinaSet_AllFiles/ClinicalReadings/CHNCXR_0652_1.txt  \n",
            "  inflating: ChinaSet_AllFiles/ClinicalReadings/CHNCXR_0653_1.txt  \n",
            " extracting: ChinaSet_AllFiles/ClinicalReadings/CHNCXR_0654_1.txt  \n",
            "  inflating: ChinaSet_AllFiles/ClinicalReadings/CHNCXR_0655_1.txt  \n",
            " extracting: ChinaSet_AllFiles/ClinicalReadings/CHNCXR_0656_1.txt  \n",
            " extracting: ChinaSet_AllFiles/ClinicalReadings/CHNCXR_0657_1.txt  \n",
            " extracting: ChinaSet_AllFiles/ClinicalReadings/CHNCXR_0658_1.txt  \n",
            " extracting: ChinaSet_AllFiles/ClinicalReadings/CHNCXR_0659_1.txt  \n",
            "  inflating: ChinaSet_AllFiles/ClinicalReadings/CHNCXR_0660_1.txt  \n",
            "  inflating: ChinaSet_AllFiles/ClinicalReadings/CHNCXR_0661_1.txt  \n",
            " extracting: ChinaSet_AllFiles/ClinicalReadings/CHNCXR_0662_1.txt  \n",
            "   creating: ChinaSet_AllFiles/CXR_png/\n",
            "  inflating: ChinaSet_AllFiles/CXR_png/CHNCXR_0001_0.png  \n",
            "  inflating: ChinaSet_AllFiles/CXR_png/CHNCXR_0002_0.png  \n",
            "  inflating: ChinaSet_AllFiles/CXR_png/CHNCXR_0003_0.png  \n",
            "  inflating: ChinaSet_AllFiles/CXR_png/CHNCXR_0004_0.png  \n",
            "  inflating: ChinaSet_AllFiles/CXR_png/CHNCXR_0005_0.png  \n",
            "  inflating: ChinaSet_AllFiles/CXR_png/CHNCXR_0006_0.png  \n",
            "  inflating: ChinaSet_AllFiles/CXR_png/CHNCXR_0007_0.png  \n",
            "  inflating: ChinaSet_AllFiles/CXR_png/CHNCXR_0008_0.png  \n",
            "  inflating: ChinaSet_AllFiles/CXR_png/CHNCXR_0009_0.png  \n",
            "  inflating: ChinaSet_AllFiles/CXR_png/CHNCXR_0010_0.png  \n",
            "  inflating: ChinaSet_AllFiles/CXR_png/CHNCXR_0011_0.png  \n",
            "  inflating: ChinaSet_AllFiles/CXR_png/CHNCXR_0012_0.png  \n",
            "  inflating: ChinaSet_AllFiles/CXR_png/CHNCXR_0013_0.png  \n",
            "  inflating: ChinaSet_AllFiles/CXR_png/CHNCXR_0014_0.png  \n",
            "  inflating: ChinaSet_AllFiles/CXR_png/CHNCXR_0015_0.png  \n",
            "  inflating: ChinaSet_AllFiles/CXR_png/CHNCXR_0016_0.png  \n",
            "  inflating: ChinaSet_AllFiles/CXR_png/CHNCXR_0017_0.png  \n",
            "  inflating: ChinaSet_AllFiles/CXR_png/CHNCXR_0018_0.png  \n",
            "  inflating: ChinaSet_AllFiles/CXR_png/CHNCXR_0019_0.png  \n",
            "  inflating: ChinaSet_AllFiles/CXR_png/CHNCXR_0020_0.png  \n",
            "  inflating: ChinaSet_AllFiles/CXR_png/CHNCXR_0021_0.png  \n",
            "  inflating: ChinaSet_AllFiles/CXR_png/CHNCXR_0022_0.png  \n",
            "  inflating: ChinaSet_AllFiles/CXR_png/CHNCXR_0023_0.png  \n",
            "  inflating: ChinaSet_AllFiles/CXR_png/CHNCXR_0024_0.png  \n",
            "  inflating: ChinaSet_AllFiles/CXR_png/CHNCXR_0025_0.png  \n",
            "  inflating: ChinaSet_AllFiles/CXR_png/CHNCXR_0026_0.png  \n",
            "  inflating: ChinaSet_AllFiles/CXR_png/CHNCXR_0027_0.png  \n",
            "  inflating: ChinaSet_AllFiles/CXR_png/CHNCXR_0028_0.png  \n",
            "  inflating: ChinaSet_AllFiles/CXR_png/CHNCXR_0029_0.png  \n",
            "  inflating: ChinaSet_AllFiles/CXR_png/CHNCXR_0030_0.png  \n",
            "  inflating: ChinaSet_AllFiles/CXR_png/CHNCXR_0031_0.png  \n",
            "  inflating: ChinaSet_AllFiles/CXR_png/CHNCXR_0032_0.png  \n",
            "  inflating: ChinaSet_AllFiles/CXR_png/CHNCXR_0033_0.png  \n",
            "  inflating: ChinaSet_AllFiles/CXR_png/CHNCXR_0034_0.png  \n",
            "  inflating: ChinaSet_AllFiles/CXR_png/CHNCXR_0035_0.png  \n",
            "  inflating: ChinaSet_AllFiles/CXR_png/CHNCXR_0036_0.png  \n",
            "  inflating: ChinaSet_AllFiles/CXR_png/CHNCXR_0037_0.png  \n",
            "  inflating: ChinaSet_AllFiles/CXR_png/CHNCXR_0038_0.png  \n",
            "  inflating: ChinaSet_AllFiles/CXR_png/CHNCXR_0039_0.png  \n",
            "  inflating: ChinaSet_AllFiles/CXR_png/CHNCXR_0040_0.png  \n",
            "  inflating: ChinaSet_AllFiles/CXR_png/CHNCXR_0041_0.png  \n",
            "  inflating: ChinaSet_AllFiles/CXR_png/CHNCXR_0042_0.png  \n",
            "  inflating: ChinaSet_AllFiles/CXR_png/CHNCXR_0043_0.png  \n",
            "  inflating: ChinaSet_AllFiles/CXR_png/CHNCXR_0044_0.png  \n",
            "  inflating: ChinaSet_AllFiles/CXR_png/CHNCXR_0045_0.png  \n",
            "  inflating: ChinaSet_AllFiles/CXR_png/CHNCXR_0046_0.png  \n",
            "  inflating: ChinaSet_AllFiles/CXR_png/CHNCXR_0047_0.png  \n",
            "  inflating: ChinaSet_AllFiles/CXR_png/CHNCXR_0048_0.png  \n",
            "  inflating: ChinaSet_AllFiles/CXR_png/CHNCXR_0049_0.png  \n",
            "  inflating: ChinaSet_AllFiles/CXR_png/CHNCXR_0050_0.png  \n",
            "  inflating: ChinaSet_AllFiles/CXR_png/CHNCXR_0051_0.png  \n",
            "  inflating: ChinaSet_AllFiles/CXR_png/CHNCXR_0052_0.png  \n",
            "  inflating: ChinaSet_AllFiles/CXR_png/CHNCXR_0053_0.png  \n",
            "  inflating: ChinaSet_AllFiles/CXR_png/CHNCXR_0054_0.png  \n",
            "  inflating: ChinaSet_AllFiles/CXR_png/CHNCXR_0055_0.png  \n",
            "  inflating: ChinaSet_AllFiles/CXR_png/CHNCXR_0056_0.png  \n",
            "  inflating: ChinaSet_AllFiles/CXR_png/CHNCXR_0057_0.png  \n",
            "  inflating: ChinaSet_AllFiles/CXR_png/CHNCXR_0058_0.png  \n",
            "  inflating: ChinaSet_AllFiles/CXR_png/CHNCXR_0059_0.png  \n",
            "  inflating: ChinaSet_AllFiles/CXR_png/CHNCXR_0060_0.png  \n",
            "  inflating: ChinaSet_AllFiles/CXR_png/CHNCXR_0061_0.png  \n",
            "  inflating: ChinaSet_AllFiles/CXR_png/CHNCXR_0062_0.png  \n",
            "  inflating: ChinaSet_AllFiles/CXR_png/CHNCXR_0063_0.png  \n",
            "  inflating: ChinaSet_AllFiles/CXR_png/CHNCXR_0064_0.png  \n",
            "  inflating: ChinaSet_AllFiles/CXR_png/CHNCXR_0065_0.png  \n",
            "  inflating: ChinaSet_AllFiles/CXR_png/CHNCXR_0066_0.png  \n",
            "  inflating: ChinaSet_AllFiles/CXR_png/CHNCXR_0067_0.png  \n",
            "  inflating: ChinaSet_AllFiles/CXR_png/CHNCXR_0068_0.png  \n",
            "  inflating: ChinaSet_AllFiles/CXR_png/CHNCXR_0069_0.png  \n",
            "  inflating: ChinaSet_AllFiles/CXR_png/CHNCXR_0070_0.png  \n",
            "  inflating: ChinaSet_AllFiles/CXR_png/CHNCXR_0071_0.png  \n",
            "  inflating: ChinaSet_AllFiles/CXR_png/CHNCXR_0072_0.png  \n",
            "  inflating: ChinaSet_AllFiles/CXR_png/CHNCXR_0073_0.png  \n",
            "  inflating: ChinaSet_AllFiles/CXR_png/CHNCXR_0074_0.png  \n",
            "  inflating: ChinaSet_AllFiles/CXR_png/CHNCXR_0075_0.png  \n",
            "  inflating: ChinaSet_AllFiles/CXR_png/CHNCXR_0076_0.png  \n",
            "  inflating: ChinaSet_AllFiles/CXR_png/CHNCXR_0077_0.png  \n",
            "  inflating: ChinaSet_AllFiles/CXR_png/CHNCXR_0078_0.png  \n",
            "  inflating: ChinaSet_AllFiles/CXR_png/CHNCXR_0079_0.png  \n",
            "  inflating: ChinaSet_AllFiles/CXR_png/CHNCXR_0080_0.png  \n",
            "  inflating: ChinaSet_AllFiles/CXR_png/CHNCXR_0081_0.png  \n",
            "  inflating: ChinaSet_AllFiles/CXR_png/CHNCXR_0082_0.png  \n",
            "  inflating: ChinaSet_AllFiles/CXR_png/CHNCXR_0083_0.png  \n",
            "  inflating: ChinaSet_AllFiles/CXR_png/CHNCXR_0084_0.png  \n",
            "  inflating: ChinaSet_AllFiles/CXR_png/CHNCXR_0085_0.png  \n",
            "  inflating: ChinaSet_AllFiles/CXR_png/CHNCXR_0086_0.png  \n",
            "  inflating: ChinaSet_AllFiles/CXR_png/CHNCXR_0087_0.png  \n",
            "  inflating: ChinaSet_AllFiles/CXR_png/CHNCXR_0088_0.png  \n",
            "  inflating: ChinaSet_AllFiles/CXR_png/CHNCXR_0089_0.png  \n",
            "  inflating: ChinaSet_AllFiles/CXR_png/CHNCXR_0090_0.png  \n",
            "  inflating: ChinaSet_AllFiles/CXR_png/CHNCXR_0091_0.png  \n",
            "  inflating: ChinaSet_AllFiles/CXR_png/CHNCXR_0092_0.png  \n",
            "  inflating: ChinaSet_AllFiles/CXR_png/CHNCXR_0093_0.png  \n",
            "  inflating: ChinaSet_AllFiles/CXR_png/CHNCXR_0094_0.png  \n",
            "  inflating: ChinaSet_AllFiles/CXR_png/CHNCXR_0095_0.png  \n",
            "  inflating: ChinaSet_AllFiles/CXR_png/CHNCXR_0096_0.png  \n",
            "  inflating: ChinaSet_AllFiles/CXR_png/CHNCXR_0097_0.png  \n",
            "  inflating: ChinaSet_AllFiles/CXR_png/CHNCXR_0098_0.png  \n",
            "  inflating: ChinaSet_AllFiles/CXR_png/CHNCXR_0099_0.png  \n",
            "  inflating: ChinaSet_AllFiles/CXR_png/CHNCXR_0100_0.png  \n",
            "  inflating: ChinaSet_AllFiles/CXR_png/CHNCXR_0101_0.png  \n",
            "  inflating: ChinaSet_AllFiles/CXR_png/CHNCXR_0102_0.png  \n",
            "  inflating: ChinaSet_AllFiles/CXR_png/CHNCXR_0103_0.png  \n",
            "  inflating: ChinaSet_AllFiles/CXR_png/CHNCXR_0104_0.png  \n",
            "  inflating: ChinaSet_AllFiles/CXR_png/CHNCXR_0105_0.png  \n",
            "  inflating: ChinaSet_AllFiles/CXR_png/CHNCXR_0106_0.png  \n",
            "  inflating: ChinaSet_AllFiles/CXR_png/CHNCXR_0107_0.png  \n",
            "  inflating: ChinaSet_AllFiles/CXR_png/CHNCXR_0108_0.png  \n",
            "  inflating: ChinaSet_AllFiles/CXR_png/CHNCXR_0109_0.png  \n",
            "  inflating: ChinaSet_AllFiles/CXR_png/CHNCXR_0110_0.png  \n",
            "  inflating: ChinaSet_AllFiles/CXR_png/CHNCXR_0111_0.png  \n",
            "  inflating: ChinaSet_AllFiles/CXR_png/CHNCXR_0112_0.png  \n",
            "  inflating: ChinaSet_AllFiles/CXR_png/CHNCXR_0113_0.png  \n",
            "  inflating: ChinaSet_AllFiles/CXR_png/CHNCXR_0114_0.png  \n",
            "  inflating: ChinaSet_AllFiles/CXR_png/CHNCXR_0115_0.png  \n",
            "  inflating: ChinaSet_AllFiles/CXR_png/CHNCXR_0116_0.png  \n",
            "  inflating: ChinaSet_AllFiles/CXR_png/CHNCXR_0117_0.png  \n",
            "  inflating: ChinaSet_AllFiles/CXR_png/CHNCXR_0118_0.png  \n",
            "  inflating: ChinaSet_AllFiles/CXR_png/CHNCXR_0119_0.png  \n",
            "  inflating: ChinaSet_AllFiles/CXR_png/CHNCXR_0120_0.png  \n",
            "  inflating: ChinaSet_AllFiles/CXR_png/CHNCXR_0121_0.png  \n",
            "  inflating: ChinaSet_AllFiles/CXR_png/CHNCXR_0122_0.png  \n",
            "  inflating: ChinaSet_AllFiles/CXR_png/CHNCXR_0123_0.png  \n",
            "  inflating: ChinaSet_AllFiles/CXR_png/CHNCXR_0124_0.png  \n",
            "  inflating: ChinaSet_AllFiles/CXR_png/CHNCXR_0125_0.png  \n",
            "  inflating: ChinaSet_AllFiles/CXR_png/CHNCXR_0126_0.png  \n",
            "  inflating: ChinaSet_AllFiles/CXR_png/CHNCXR_0127_0.png  \n",
            "  inflating: ChinaSet_AllFiles/CXR_png/CHNCXR_0128_0.png  \n",
            "  inflating: ChinaSet_AllFiles/CXR_png/CHNCXR_0129_0.png  \n",
            "  inflating: ChinaSet_AllFiles/CXR_png/CHNCXR_0130_0.png  \n",
            "  inflating: ChinaSet_AllFiles/CXR_png/CHNCXR_0131_0.png  \n",
            "  inflating: ChinaSet_AllFiles/CXR_png/CHNCXR_0132_0.png  \n",
            "  inflating: ChinaSet_AllFiles/CXR_png/CHNCXR_0133_0.png  \n",
            "  inflating: ChinaSet_AllFiles/CXR_png/CHNCXR_0134_0.png  \n",
            "  inflating: ChinaSet_AllFiles/CXR_png/CHNCXR_0135_0.png  \n",
            "  inflating: ChinaSet_AllFiles/CXR_png/CHNCXR_0136_0.png  \n",
            "  inflating: ChinaSet_AllFiles/CXR_png/CHNCXR_0137_0.png  \n",
            "  inflating: ChinaSet_AllFiles/CXR_png/CHNCXR_0138_0.png  \n",
            "  inflating: ChinaSet_AllFiles/CXR_png/CHNCXR_0139_0.png  \n",
            "  inflating: ChinaSet_AllFiles/CXR_png/CHNCXR_0140_0.png  \n",
            "  inflating: ChinaSet_AllFiles/CXR_png/CHNCXR_0141_0.png  \n",
            "  inflating: ChinaSet_AllFiles/CXR_png/CHNCXR_0142_0.png  \n",
            "  inflating: ChinaSet_AllFiles/CXR_png/CHNCXR_0143_0.png  \n",
            "  inflating: ChinaSet_AllFiles/CXR_png/CHNCXR_0144_0.png  \n",
            "  inflating: ChinaSet_AllFiles/CXR_png/CHNCXR_0145_0.png  \n",
            "  inflating: ChinaSet_AllFiles/CXR_png/CHNCXR_0146_0.png  \n",
            "  inflating: ChinaSet_AllFiles/CXR_png/CHNCXR_0147_0.png  \n",
            "  inflating: ChinaSet_AllFiles/CXR_png/CHNCXR_0148_0.png  \n",
            "  inflating: ChinaSet_AllFiles/CXR_png/CHNCXR_0149_0.png  \n",
            "  inflating: ChinaSet_AllFiles/CXR_png/CHNCXR_0150_0.png  \n",
            "  inflating: ChinaSet_AllFiles/CXR_png/CHNCXR_0151_0.png  \n",
            "  inflating: ChinaSet_AllFiles/CXR_png/CHNCXR_0152_0.png  \n",
            "  inflating: ChinaSet_AllFiles/CXR_png/CHNCXR_0153_0.png  \n",
            "  inflating: ChinaSet_AllFiles/CXR_png/CHNCXR_0154_0.png  \n",
            "  inflating: ChinaSet_AllFiles/CXR_png/CHNCXR_0155_0.png  \n",
            "  inflating: ChinaSet_AllFiles/CXR_png/CHNCXR_0156_0.png  \n",
            "  inflating: ChinaSet_AllFiles/CXR_png/CHNCXR_0157_0.png  \n",
            "  inflating: ChinaSet_AllFiles/CXR_png/CHNCXR_0158_0.png  \n",
            "  inflating: ChinaSet_AllFiles/CXR_png/CHNCXR_0159_0.png  \n",
            "  inflating: ChinaSet_AllFiles/CXR_png/CHNCXR_0160_0.png  \n",
            "  inflating: ChinaSet_AllFiles/CXR_png/CHNCXR_0161_0.png  \n",
            "  inflating: ChinaSet_AllFiles/CXR_png/CHNCXR_0162_0.png  \n",
            "  inflating: ChinaSet_AllFiles/CXR_png/CHNCXR_0163_0.png  \n",
            "  inflating: ChinaSet_AllFiles/CXR_png/CHNCXR_0164_0.png  \n",
            "  inflating: ChinaSet_AllFiles/CXR_png/CHNCXR_0165_0.png  \n",
            "  inflating: ChinaSet_AllFiles/CXR_png/CHNCXR_0166_0.png  \n",
            "  inflating: ChinaSet_AllFiles/CXR_png/CHNCXR_0167_0.png  \n",
            "  inflating: ChinaSet_AllFiles/CXR_png/CHNCXR_0168_0.png  \n",
            "  inflating: ChinaSet_AllFiles/CXR_png/CHNCXR_0169_0.png  \n",
            "  inflating: ChinaSet_AllFiles/CXR_png/CHNCXR_0170_0.png  \n",
            "  inflating: ChinaSet_AllFiles/CXR_png/CHNCXR_0171_0.png  \n",
            "  inflating: ChinaSet_AllFiles/CXR_png/CHNCXR_0172_0.png  \n",
            "  inflating: ChinaSet_AllFiles/CXR_png/CHNCXR_0173_0.png  \n",
            "  inflating: ChinaSet_AllFiles/CXR_png/CHNCXR_0174_0.png  \n",
            "  inflating: ChinaSet_AllFiles/CXR_png/CHNCXR_0175_0.png  \n",
            "  inflating: ChinaSet_AllFiles/CXR_png/CHNCXR_0176_0.png  \n",
            "  inflating: ChinaSet_AllFiles/CXR_png/CHNCXR_0177_0.png  \n",
            "  inflating: ChinaSet_AllFiles/CXR_png/CHNCXR_0178_0.png  \n",
            "  inflating: ChinaSet_AllFiles/CXR_png/CHNCXR_0179_0.png  \n",
            "  inflating: ChinaSet_AllFiles/CXR_png/CHNCXR_0180_0.png  \n",
            "  inflating: ChinaSet_AllFiles/CXR_png/CHNCXR_0181_0.png  \n",
            "  inflating: ChinaSet_AllFiles/CXR_png/CHNCXR_0182_0.png  \n",
            "  inflating: ChinaSet_AllFiles/CXR_png/CHNCXR_0183_0.png  \n",
            "  inflating: ChinaSet_AllFiles/CXR_png/CHNCXR_0184_0.png  \n",
            "  inflating: ChinaSet_AllFiles/CXR_png/CHNCXR_0185_0.png  \n",
            "  inflating: ChinaSet_AllFiles/CXR_png/CHNCXR_0186_0.png  \n",
            "  inflating: ChinaSet_AllFiles/CXR_png/CHNCXR_0187_0.png  \n",
            "  inflating: ChinaSet_AllFiles/CXR_png/CHNCXR_0188_0.png  \n",
            "  inflating: ChinaSet_AllFiles/CXR_png/CHNCXR_0189_0.png  \n",
            "  inflating: ChinaSet_AllFiles/CXR_png/CHNCXR_0190_0.png  \n",
            "  inflating: ChinaSet_AllFiles/CXR_png/CHNCXR_0191_0.png  \n",
            "  inflating: ChinaSet_AllFiles/CXR_png/CHNCXR_0192_0.png  \n",
            "  inflating: ChinaSet_AllFiles/CXR_png/CHNCXR_0193_0.png  \n",
            "  inflating: ChinaSet_AllFiles/CXR_png/CHNCXR_0194_0.png  \n",
            "  inflating: ChinaSet_AllFiles/CXR_png/CHNCXR_0195_0.png  \n",
            "  inflating: ChinaSet_AllFiles/CXR_png/CHNCXR_0196_0.png  \n",
            "  inflating: ChinaSet_AllFiles/CXR_png/CHNCXR_0197_0.png  \n",
            "  inflating: ChinaSet_AllFiles/CXR_png/CHNCXR_0198_0.png  \n",
            "  inflating: ChinaSet_AllFiles/CXR_png/CHNCXR_0199_0.png  \n",
            "  inflating: ChinaSet_AllFiles/CXR_png/CHNCXR_0200_0.png  \n",
            "  inflating: ChinaSet_AllFiles/CXR_png/CHNCXR_0201_0.png  \n",
            "  inflating: ChinaSet_AllFiles/CXR_png/CHNCXR_0202_0.png  \n",
            "  inflating: ChinaSet_AllFiles/CXR_png/CHNCXR_0203_0.png  \n",
            "  inflating: ChinaSet_AllFiles/CXR_png/CHNCXR_0204_0.png  \n",
            "  inflating: ChinaSet_AllFiles/CXR_png/CHNCXR_0205_0.png  \n",
            "  inflating: ChinaSet_AllFiles/CXR_png/CHNCXR_0206_0.png  \n",
            "  inflating: ChinaSet_AllFiles/CXR_png/CHNCXR_0207_0.png  \n",
            "  inflating: ChinaSet_AllFiles/CXR_png/CHNCXR_0208_0.png  \n",
            "  inflating: ChinaSet_AllFiles/CXR_png/CHNCXR_0209_0.png  \n",
            "  inflating: ChinaSet_AllFiles/CXR_png/CHNCXR_0210_0.png  \n",
            "  inflating: ChinaSet_AllFiles/CXR_png/CHNCXR_0211_0.png  \n",
            "  inflating: ChinaSet_AllFiles/CXR_png/CHNCXR_0212_0.png  \n",
            "  inflating: ChinaSet_AllFiles/CXR_png/CHNCXR_0213_0.png  \n",
            "  inflating: ChinaSet_AllFiles/CXR_png/CHNCXR_0214_0.png  \n",
            "  inflating: ChinaSet_AllFiles/CXR_png/CHNCXR_0215_0.png  \n",
            "  inflating: ChinaSet_AllFiles/CXR_png/CHNCXR_0216_0.png  \n",
            "  inflating: ChinaSet_AllFiles/CXR_png/CHNCXR_0217_0.png  \n",
            "  inflating: ChinaSet_AllFiles/CXR_png/CHNCXR_0218_0.png  \n",
            "  inflating: ChinaSet_AllFiles/CXR_png/CHNCXR_0219_0.png  \n",
            "  inflating: ChinaSet_AllFiles/CXR_png/CHNCXR_0220_0.png  \n",
            "  inflating: ChinaSet_AllFiles/CXR_png/CHNCXR_0221_0.png  \n",
            "  inflating: ChinaSet_AllFiles/CXR_png/CHNCXR_0222_0.png  \n",
            "  inflating: ChinaSet_AllFiles/CXR_png/CHNCXR_0223_0.png  \n",
            "  inflating: ChinaSet_AllFiles/CXR_png/CHNCXR_0224_0.png  \n",
            "  inflating: ChinaSet_AllFiles/CXR_png/CHNCXR_0225_0.png  \n",
            "  inflating: ChinaSet_AllFiles/CXR_png/CHNCXR_0226_0.png  \n",
            "  inflating: ChinaSet_AllFiles/CXR_png/CHNCXR_0227_0.png  \n",
            "  inflating: ChinaSet_AllFiles/CXR_png/CHNCXR_0228_0.png  \n",
            "  inflating: ChinaSet_AllFiles/CXR_png/CHNCXR_0229_0.png  \n",
            "  inflating: ChinaSet_AllFiles/CXR_png/CHNCXR_0230_0.png  \n",
            "  inflating: ChinaSet_AllFiles/CXR_png/CHNCXR_0231_0.png  \n",
            "  inflating: ChinaSet_AllFiles/CXR_png/CHNCXR_0232_0.png  \n",
            "  inflating: ChinaSet_AllFiles/CXR_png/CHNCXR_0233_0.png  \n",
            "  inflating: ChinaSet_AllFiles/CXR_png/CHNCXR_0234_0.png  \n",
            "  inflating: ChinaSet_AllFiles/CXR_png/CHNCXR_0235_0.png  \n",
            "  inflating: ChinaSet_AllFiles/CXR_png/CHNCXR_0236_0.png  \n",
            "  inflating: ChinaSet_AllFiles/CXR_png/CHNCXR_0237_0.png  \n",
            "  inflating: ChinaSet_AllFiles/CXR_png/CHNCXR_0238_0.png  \n",
            "  inflating: ChinaSet_AllFiles/CXR_png/CHNCXR_0239_0.png  \n",
            "  inflating: ChinaSet_AllFiles/CXR_png/CHNCXR_0240_0.png  \n",
            "  inflating: ChinaSet_AllFiles/CXR_png/CHNCXR_0241_0.png  \n",
            "  inflating: ChinaSet_AllFiles/CXR_png/CHNCXR_0242_0.png  \n",
            "  inflating: ChinaSet_AllFiles/CXR_png/CHNCXR_0243_0.png  \n",
            "  inflating: ChinaSet_AllFiles/CXR_png/CHNCXR_0244_0.png  \n",
            "  inflating: ChinaSet_AllFiles/CXR_png/CHNCXR_0245_0.png  \n",
            "  inflating: ChinaSet_AllFiles/CXR_png/CHNCXR_0246_0.png  \n",
            "  inflating: ChinaSet_AllFiles/CXR_png/CHNCXR_0247_0.png  \n",
            "  inflating: ChinaSet_AllFiles/CXR_png/CHNCXR_0248_0.png  \n",
            "  inflating: ChinaSet_AllFiles/CXR_png/CHNCXR_0249_0.png  \n",
            "  inflating: ChinaSet_AllFiles/CXR_png/CHNCXR_0250_0.png  \n",
            "  inflating: ChinaSet_AllFiles/CXR_png/CHNCXR_0251_0.png  \n",
            "  inflating: ChinaSet_AllFiles/CXR_png/CHNCXR_0252_0.png  \n",
            "  inflating: ChinaSet_AllFiles/CXR_png/CHNCXR_0253_0.png  \n",
            "  inflating: ChinaSet_AllFiles/CXR_png/CHNCXR_0254_0.png  \n",
            "  inflating: ChinaSet_AllFiles/CXR_png/CHNCXR_0255_0.png  \n",
            "  inflating: ChinaSet_AllFiles/CXR_png/CHNCXR_0256_0.png  \n",
            "  inflating: ChinaSet_AllFiles/CXR_png/CHNCXR_0257_0.png  \n",
            "  inflating: ChinaSet_AllFiles/CXR_png/CHNCXR_0258_0.png  \n",
            "  inflating: ChinaSet_AllFiles/CXR_png/CHNCXR_0259_0.png  \n",
            "  inflating: ChinaSet_AllFiles/CXR_png/CHNCXR_0260_0.png  \n",
            "  inflating: ChinaSet_AllFiles/CXR_png/CHNCXR_0261_0.png  \n",
            "  inflating: ChinaSet_AllFiles/CXR_png/CHNCXR_0262_0.png  \n",
            "  inflating: ChinaSet_AllFiles/CXR_png/CHNCXR_0263_0.png  \n",
            "  inflating: ChinaSet_AllFiles/CXR_png/CHNCXR_0264_0.png  \n",
            "  inflating: ChinaSet_AllFiles/CXR_png/CHNCXR_0265_0.png  \n",
            "  inflating: ChinaSet_AllFiles/CXR_png/CHNCXR_0266_0.png  \n",
            "  inflating: ChinaSet_AllFiles/CXR_png/CHNCXR_0267_0.png  \n",
            "  inflating: ChinaSet_AllFiles/CXR_png/CHNCXR_0268_0.png  \n",
            "  inflating: ChinaSet_AllFiles/CXR_png/CHNCXR_0269_0.png  \n",
            "  inflating: ChinaSet_AllFiles/CXR_png/CHNCXR_0270_0.png  \n",
            "  inflating: ChinaSet_AllFiles/CXR_png/CHNCXR_0271_0.png  \n",
            "  inflating: ChinaSet_AllFiles/CXR_png/CHNCXR_0272_0.png  \n",
            "  inflating: ChinaSet_AllFiles/CXR_png/CHNCXR_0273_0.png  \n",
            "  inflating: ChinaSet_AllFiles/CXR_png/CHNCXR_0274_0.png  \n",
            "  inflating: ChinaSet_AllFiles/CXR_png/CHNCXR_0275_0.png  \n",
            "  inflating: ChinaSet_AllFiles/CXR_png/CHNCXR_0276_0.png  \n",
            "  inflating: ChinaSet_AllFiles/CXR_png/CHNCXR_0277_0.png  \n",
            "  inflating: ChinaSet_AllFiles/CXR_png/CHNCXR_0278_0.png  \n",
            "  inflating: ChinaSet_AllFiles/CXR_png/CHNCXR_0279_0.png  \n",
            "  inflating: ChinaSet_AllFiles/CXR_png/CHNCXR_0280_0.png  \n",
            "  inflating: ChinaSet_AllFiles/CXR_png/CHNCXR_0281_0.png  \n",
            "  inflating: ChinaSet_AllFiles/CXR_png/CHNCXR_0282_0.png  \n",
            "  inflating: ChinaSet_AllFiles/CXR_png/CHNCXR_0283_0.png  \n",
            "  inflating: ChinaSet_AllFiles/CXR_png/CHNCXR_0284_0.png  \n",
            "  inflating: ChinaSet_AllFiles/CXR_png/CHNCXR_0285_0.png  \n",
            "  inflating: ChinaSet_AllFiles/CXR_png/CHNCXR_0286_0.png  \n",
            "  inflating: ChinaSet_AllFiles/CXR_png/CHNCXR_0287_0.png  \n",
            "  inflating: ChinaSet_AllFiles/CXR_png/CHNCXR_0288_0.png  \n",
            "  inflating: ChinaSet_AllFiles/CXR_png/CHNCXR_0289_0.png  \n",
            "  inflating: ChinaSet_AllFiles/CXR_png/CHNCXR_0290_0.png  \n",
            "  inflating: ChinaSet_AllFiles/CXR_png/CHNCXR_0291_0.png  \n",
            "  inflating: ChinaSet_AllFiles/CXR_png/CHNCXR_0292_0.png  \n",
            "  inflating: ChinaSet_AllFiles/CXR_png/CHNCXR_0293_0.png  \n",
            "  inflating: ChinaSet_AllFiles/CXR_png/CHNCXR_0294_0.png  \n",
            "  inflating: ChinaSet_AllFiles/CXR_png/CHNCXR_0295_0.png  \n",
            "  inflating: ChinaSet_AllFiles/CXR_png/CHNCXR_0296_0.png  \n",
            "  inflating: ChinaSet_AllFiles/CXR_png/CHNCXR_0297_0.png  \n",
            "  inflating: ChinaSet_AllFiles/CXR_png/CHNCXR_0298_0.png  \n",
            "  inflating: ChinaSet_AllFiles/CXR_png/CHNCXR_0299_0.png  \n",
            "  inflating: ChinaSet_AllFiles/CXR_png/CHNCXR_0300_0.png  \n",
            "  inflating: ChinaSet_AllFiles/CXR_png/CHNCXR_0301_0.png  \n",
            "  inflating: ChinaSet_AllFiles/CXR_png/CHNCXR_0302_0.png  \n",
            "  inflating: ChinaSet_AllFiles/CXR_png/CHNCXR_0303_0.png  \n",
            "  inflating: ChinaSet_AllFiles/CXR_png/CHNCXR_0304_0.png  \n",
            "  inflating: ChinaSet_AllFiles/CXR_png/CHNCXR_0305_0.png  \n",
            "  inflating: ChinaSet_AllFiles/CXR_png/CHNCXR_0306_0.png  \n",
            "  inflating: ChinaSet_AllFiles/CXR_png/CHNCXR_0307_0.png  \n",
            "  inflating: ChinaSet_AllFiles/CXR_png/CHNCXR_0308_0.png  \n",
            "  inflating: ChinaSet_AllFiles/CXR_png/CHNCXR_0309_0.png  \n",
            "  inflating: ChinaSet_AllFiles/CXR_png/CHNCXR_0310_0.png  \n",
            "  inflating: ChinaSet_AllFiles/CXR_png/CHNCXR_0311_0.png  \n",
            "  inflating: ChinaSet_AllFiles/CXR_png/CHNCXR_0312_0.png  \n",
            "  inflating: ChinaSet_AllFiles/CXR_png/CHNCXR_0313_0.png  \n",
            "  inflating: ChinaSet_AllFiles/CXR_png/CHNCXR_0314_0.png  \n",
            "  inflating: ChinaSet_AllFiles/CXR_png/CHNCXR_0315_0.png  \n",
            "  inflating: ChinaSet_AllFiles/CXR_png/CHNCXR_0316_0.png  \n",
            "  inflating: ChinaSet_AllFiles/CXR_png/CHNCXR_0317_0.png  \n",
            "  inflating: ChinaSet_AllFiles/CXR_png/CHNCXR_0318_0.png  \n",
            "  inflating: ChinaSet_AllFiles/CXR_png/CHNCXR_0319_0.png  \n",
            "  inflating: ChinaSet_AllFiles/CXR_png/CHNCXR_0320_0.png  \n",
            "  inflating: ChinaSet_AllFiles/CXR_png/CHNCXR_0321_0.png  \n",
            "  inflating: ChinaSet_AllFiles/CXR_png/CHNCXR_0322_0.png  \n",
            "  inflating: ChinaSet_AllFiles/CXR_png/CHNCXR_0323_0.png  \n",
            "  inflating: ChinaSet_AllFiles/CXR_png/CHNCXR_0324_0.png  \n",
            "  inflating: ChinaSet_AllFiles/CXR_png/CHNCXR_0325_0.png  \n",
            "  inflating: ChinaSet_AllFiles/CXR_png/CHNCXR_0326_0.png  \n",
            "  inflating: ChinaSet_AllFiles/CXR_png/CHNCXR_0327_1.png  \n",
            "  inflating: ChinaSet_AllFiles/CXR_png/CHNCXR_0328_1.png  \n",
            "  inflating: ChinaSet_AllFiles/CXR_png/CHNCXR_0329_1.png  \n",
            "  inflating: ChinaSet_AllFiles/CXR_png/CHNCXR_0330_1.png  \n",
            "  inflating: ChinaSet_AllFiles/CXR_png/CHNCXR_0331_1.png  \n",
            "  inflating: ChinaSet_AllFiles/CXR_png/CHNCXR_0332_1.png  \n",
            "  inflating: ChinaSet_AllFiles/CXR_png/CHNCXR_0333_1.png  \n",
            "  inflating: ChinaSet_AllFiles/CXR_png/CHNCXR_0334_1.png  \n",
            "  inflating: ChinaSet_AllFiles/CXR_png/CHNCXR_0335_1.png  \n",
            "  inflating: ChinaSet_AllFiles/CXR_png/CHNCXR_0336_1.png  \n",
            "  inflating: ChinaSet_AllFiles/CXR_png/CHNCXR_0337_1.png  \n",
            "  inflating: ChinaSet_AllFiles/CXR_png/CHNCXR_0338_1.png  \n",
            "  inflating: ChinaSet_AllFiles/CXR_png/CHNCXR_0339_1.png  \n",
            "  inflating: ChinaSet_AllFiles/CXR_png/CHNCXR_0340_1.png  \n",
            "  inflating: ChinaSet_AllFiles/CXR_png/CHNCXR_0341_1.png  \n",
            "  inflating: ChinaSet_AllFiles/CXR_png/CHNCXR_0342_1.png  \n",
            "  inflating: ChinaSet_AllFiles/CXR_png/CHNCXR_0343_1.png  \n",
            "  inflating: ChinaSet_AllFiles/CXR_png/CHNCXR_0344_1.png  \n",
            "  inflating: ChinaSet_AllFiles/CXR_png/CHNCXR_0345_1.png  \n",
            "  inflating: ChinaSet_AllFiles/CXR_png/CHNCXR_0346_1.png  \n",
            "  inflating: ChinaSet_AllFiles/CXR_png/CHNCXR_0347_1.png  \n",
            "  inflating: ChinaSet_AllFiles/CXR_png/CHNCXR_0348_1.png  \n",
            "  inflating: ChinaSet_AllFiles/CXR_png/CHNCXR_0349_1.png  \n",
            "  inflating: ChinaSet_AllFiles/CXR_png/CHNCXR_0350_1.png  \n",
            "  inflating: ChinaSet_AllFiles/CXR_png/CHNCXR_0351_1.png  \n",
            "  inflating: ChinaSet_AllFiles/CXR_png/CHNCXR_0352_1.png  \n",
            "  inflating: ChinaSet_AllFiles/CXR_png/CHNCXR_0353_1.png  \n",
            "  inflating: ChinaSet_AllFiles/CXR_png/CHNCXR_0354_1.png  \n",
            "  inflating: ChinaSet_AllFiles/CXR_png/CHNCXR_0355_1.png  \n",
            "  inflating: ChinaSet_AllFiles/CXR_png/CHNCXR_0356_1.png  \n",
            "  inflating: ChinaSet_AllFiles/CXR_png/CHNCXR_0357_1.png  \n",
            "  inflating: ChinaSet_AllFiles/CXR_png/CHNCXR_0358_1.png  \n",
            "  inflating: ChinaSet_AllFiles/CXR_png/CHNCXR_0359_1.png  \n",
            "  inflating: ChinaSet_AllFiles/CXR_png/CHNCXR_0360_1.png  \n",
            "  inflating: ChinaSet_AllFiles/CXR_png/CHNCXR_0361_1.png  \n",
            "  inflating: ChinaSet_AllFiles/CXR_png/CHNCXR_0362_1.png  \n",
            "  inflating: ChinaSet_AllFiles/CXR_png/CHNCXR_0363_1.png  \n",
            "  inflating: ChinaSet_AllFiles/CXR_png/CHNCXR_0364_1.png  \n",
            "  inflating: ChinaSet_AllFiles/CXR_png/CHNCXR_0365_1.png  \n",
            "  inflating: ChinaSet_AllFiles/CXR_png/CHNCXR_0366_1.png  \n",
            "  inflating: ChinaSet_AllFiles/CXR_png/CHNCXR_0367_1.png  \n",
            "  inflating: ChinaSet_AllFiles/CXR_png/CHNCXR_0368_1.png  \n",
            "  inflating: ChinaSet_AllFiles/CXR_png/CHNCXR_0369_1.png  \n",
            "  inflating: ChinaSet_AllFiles/CXR_png/CHNCXR_0370_1.png  \n",
            "  inflating: ChinaSet_AllFiles/CXR_png/CHNCXR_0371_1.png  \n",
            "  inflating: ChinaSet_AllFiles/CXR_png/CHNCXR_0372_1.png  \n",
            "  inflating: ChinaSet_AllFiles/CXR_png/CHNCXR_0373_1.png  \n",
            "  inflating: ChinaSet_AllFiles/CXR_png/CHNCXR_0374_1.png  \n",
            "  inflating: ChinaSet_AllFiles/CXR_png/CHNCXR_0375_1.png  \n",
            "  inflating: ChinaSet_AllFiles/CXR_png/CHNCXR_0376_1.png  \n",
            "  inflating: ChinaSet_AllFiles/CXR_png/CHNCXR_0377_1.png  \n",
            "  inflating: ChinaSet_AllFiles/CXR_png/CHNCXR_0378_1.png  \n",
            "  inflating: ChinaSet_AllFiles/CXR_png/CHNCXR_0379_1.png  \n",
            "  inflating: ChinaSet_AllFiles/CXR_png/CHNCXR_0380_1.png  \n",
            "  inflating: ChinaSet_AllFiles/CXR_png/CHNCXR_0381_1.png  \n",
            "  inflating: ChinaSet_AllFiles/CXR_png/CHNCXR_0382_1.png  \n",
            "  inflating: ChinaSet_AllFiles/CXR_png/CHNCXR_0383_1.png  \n",
            "  inflating: ChinaSet_AllFiles/CXR_png/CHNCXR_0384_1.png  \n",
            "  inflating: ChinaSet_AllFiles/CXR_png/CHNCXR_0385_1.png  \n",
            "  inflating: ChinaSet_AllFiles/CXR_png/CHNCXR_0386_1.png  \n",
            "  inflating: ChinaSet_AllFiles/CXR_png/CHNCXR_0387_1.png  \n",
            "  inflating: ChinaSet_AllFiles/CXR_png/CHNCXR_0388_1.png  \n",
            "  inflating: ChinaSet_AllFiles/CXR_png/CHNCXR_0389_1.png  \n",
            "  inflating: ChinaSet_AllFiles/CXR_png/CHNCXR_0390_1.png  \n",
            "  inflating: ChinaSet_AllFiles/CXR_png/CHNCXR_0391_1.png  \n",
            "  inflating: ChinaSet_AllFiles/CXR_png/CHNCXR_0392_1.png  \n",
            "  inflating: ChinaSet_AllFiles/CXR_png/CHNCXR_0393_1.png  \n",
            "  inflating: ChinaSet_AllFiles/CXR_png/CHNCXR_0394_1.png  \n",
            "  inflating: ChinaSet_AllFiles/CXR_png/CHNCXR_0395_1.png  \n",
            "  inflating: ChinaSet_AllFiles/CXR_png/CHNCXR_0396_1.png  \n",
            "  inflating: ChinaSet_AllFiles/CXR_png/CHNCXR_0397_1.png  \n",
            "  inflating: ChinaSet_AllFiles/CXR_png/CHNCXR_0398_1.png  \n",
            "  inflating: ChinaSet_AllFiles/CXR_png/CHNCXR_0399_1.png  \n",
            "  inflating: ChinaSet_AllFiles/CXR_png/CHNCXR_0400_1.png  \n",
            "  inflating: ChinaSet_AllFiles/CXR_png/CHNCXR_0401_1.png  \n",
            "  inflating: ChinaSet_AllFiles/CXR_png/CHNCXR_0402_1.png  \n",
            "  inflating: ChinaSet_AllFiles/CXR_png/CHNCXR_0403_1.png  \n",
            "  inflating: ChinaSet_AllFiles/CXR_png/CHNCXR_0404_1.png  \n",
            "  inflating: ChinaSet_AllFiles/CXR_png/CHNCXR_0405_1.png  \n",
            "  inflating: ChinaSet_AllFiles/CXR_png/CHNCXR_0406_1.png  \n",
            "  inflating: ChinaSet_AllFiles/CXR_png/CHNCXR_0407_1.png  \n",
            "  inflating: ChinaSet_AllFiles/CXR_png/CHNCXR_0408_1.png  \n",
            "  inflating: ChinaSet_AllFiles/CXR_png/CHNCXR_0409_1.png  \n",
            "  inflating: ChinaSet_AllFiles/CXR_png/CHNCXR_0410_1.png  \n",
            "  inflating: ChinaSet_AllFiles/CXR_png/CHNCXR_0411_1.png  \n",
            "  inflating: ChinaSet_AllFiles/CXR_png/CHNCXR_0412_1.png  \n",
            "  inflating: ChinaSet_AllFiles/CXR_png/CHNCXR_0413_1.png  \n",
            "  inflating: ChinaSet_AllFiles/CXR_png/CHNCXR_0414_1.png  \n",
            "  inflating: ChinaSet_AllFiles/CXR_png/CHNCXR_0415_1.png  \n",
            "  inflating: ChinaSet_AllFiles/CXR_png/CHNCXR_0416_1.png  \n",
            "  inflating: ChinaSet_AllFiles/CXR_png/CHNCXR_0417_1.png  \n",
            "  inflating: ChinaSet_AllFiles/CXR_png/CHNCXR_0418_1.png  \n",
            "  inflating: ChinaSet_AllFiles/CXR_png/CHNCXR_0419_1.png  \n",
            "  inflating: ChinaSet_AllFiles/CXR_png/CHNCXR_0420_1.png  \n",
            "  inflating: ChinaSet_AllFiles/CXR_png/CHNCXR_0421_1.png  \n",
            "  inflating: ChinaSet_AllFiles/CXR_png/CHNCXR_0422_1.png  \n",
            "  inflating: ChinaSet_AllFiles/CXR_png/CHNCXR_0423_1.png  \n",
            "  inflating: ChinaSet_AllFiles/CXR_png/CHNCXR_0424_1.png  \n",
            "  inflating: ChinaSet_AllFiles/CXR_png/CHNCXR_0425_1.png  \n",
            "  inflating: ChinaSet_AllFiles/CXR_png/CHNCXR_0426_1.png  \n",
            "  inflating: ChinaSet_AllFiles/CXR_png/CHNCXR_0427_1.png  \n",
            "  inflating: ChinaSet_AllFiles/CXR_png/CHNCXR_0428_1.png  \n",
            "  inflating: ChinaSet_AllFiles/CXR_png/CHNCXR_0429_1.png  \n",
            "  inflating: ChinaSet_AllFiles/CXR_png/CHNCXR_0430_1.png  \n",
            "  inflating: ChinaSet_AllFiles/CXR_png/CHNCXR_0431_1.png  \n",
            "  inflating: ChinaSet_AllFiles/CXR_png/CHNCXR_0432_1.png  \n",
            "  inflating: ChinaSet_AllFiles/CXR_png/CHNCXR_0433_1.png  \n",
            "  inflating: ChinaSet_AllFiles/CXR_png/CHNCXR_0434_1.png  \n",
            "  inflating: ChinaSet_AllFiles/CXR_png/CHNCXR_0435_1.png  \n",
            "  inflating: ChinaSet_AllFiles/CXR_png/CHNCXR_0436_1.png  \n",
            "  inflating: ChinaSet_AllFiles/CXR_png/CHNCXR_0437_1.png  \n",
            "  inflating: ChinaSet_AllFiles/CXR_png/CHNCXR_0438_1.png  \n",
            "  inflating: ChinaSet_AllFiles/CXR_png/CHNCXR_0439_1.png  \n",
            "  inflating: ChinaSet_AllFiles/CXR_png/CHNCXR_0440_1.png  \n",
            "  inflating: ChinaSet_AllFiles/CXR_png/CHNCXR_0441_1.png  \n",
            "  inflating: ChinaSet_AllFiles/CXR_png/CHNCXR_0442_1.png  \n",
            "  inflating: ChinaSet_AllFiles/CXR_png/CHNCXR_0443_1.png  \n",
            "  inflating: ChinaSet_AllFiles/CXR_png/CHNCXR_0444_1.png  \n",
            "  inflating: ChinaSet_AllFiles/CXR_png/CHNCXR_0445_1.png  \n",
            "  inflating: ChinaSet_AllFiles/CXR_png/CHNCXR_0446_1.png  \n",
            "  inflating: ChinaSet_AllFiles/CXR_png/CHNCXR_0447_1.png  \n",
            "  inflating: ChinaSet_AllFiles/CXR_png/CHNCXR_0448_1.png  \n",
            "  inflating: ChinaSet_AllFiles/CXR_png/CHNCXR_0449_1.png  \n",
            "  inflating: ChinaSet_AllFiles/CXR_png/CHNCXR_0450_1.png  \n",
            "  inflating: ChinaSet_AllFiles/CXR_png/CHNCXR_0451_1.png  \n",
            "  inflating: ChinaSet_AllFiles/CXR_png/CHNCXR_0452_1.png  \n",
            "  inflating: ChinaSet_AllFiles/CXR_png/CHNCXR_0453_1.png  \n",
            "  inflating: ChinaSet_AllFiles/CXR_png/CHNCXR_0454_1.png  \n",
            "  inflating: ChinaSet_AllFiles/CXR_png/CHNCXR_0455_1.png  \n",
            "  inflating: ChinaSet_AllFiles/CXR_png/CHNCXR_0456_1.png  \n",
            "  inflating: ChinaSet_AllFiles/CXR_png/CHNCXR_0457_1.png  \n",
            "  inflating: ChinaSet_AllFiles/CXR_png/CHNCXR_0458_1.png  \n",
            "  inflating: ChinaSet_AllFiles/CXR_png/CHNCXR_0459_1.png  \n",
            "  inflating: ChinaSet_AllFiles/CXR_png/CHNCXR_0460_1.png  \n",
            "  inflating: ChinaSet_AllFiles/CXR_png/CHNCXR_0461_1.png  \n",
            "  inflating: ChinaSet_AllFiles/CXR_png/CHNCXR_0462_1.png  \n",
            "  inflating: ChinaSet_AllFiles/CXR_png/CHNCXR_0463_1.png  \n",
            "  inflating: ChinaSet_AllFiles/CXR_png/CHNCXR_0464_1.png  \n",
            "  inflating: ChinaSet_AllFiles/CXR_png/CHNCXR_0465_1.png  \n",
            "  inflating: ChinaSet_AllFiles/CXR_png/CHNCXR_0466_1.png  \n",
            "  inflating: ChinaSet_AllFiles/CXR_png/CHNCXR_0467_1.png  \n",
            "  inflating: ChinaSet_AllFiles/CXR_png/CHNCXR_0468_1.png  \n",
            "  inflating: ChinaSet_AllFiles/CXR_png/CHNCXR_0469_1.png  \n",
            "  inflating: ChinaSet_AllFiles/CXR_png/CHNCXR_0470_1.png  \n",
            "  inflating: ChinaSet_AllFiles/CXR_png/CHNCXR_0471_1.png  \n",
            "  inflating: ChinaSet_AllFiles/CXR_png/CHNCXR_0472_1.png  \n",
            "  inflating: ChinaSet_AllFiles/CXR_png/CHNCXR_0473_1.png  \n",
            "  inflating: ChinaSet_AllFiles/CXR_png/CHNCXR_0474_1.png  \n",
            "  inflating: ChinaSet_AllFiles/CXR_png/CHNCXR_0475_1.png  \n",
            "  inflating: ChinaSet_AllFiles/CXR_png/CHNCXR_0476_1.png  \n",
            "  inflating: ChinaSet_AllFiles/CXR_png/CHNCXR_0477_1.png  \n",
            "  inflating: ChinaSet_AllFiles/CXR_png/CHNCXR_0478_1.png  \n",
            "  inflating: ChinaSet_AllFiles/CXR_png/CHNCXR_0479_1.png  \n",
            "  inflating: ChinaSet_AllFiles/CXR_png/CHNCXR_0480_1.png  \n",
            "  inflating: ChinaSet_AllFiles/CXR_png/CHNCXR_0481_1.png  \n",
            "  inflating: ChinaSet_AllFiles/CXR_png/CHNCXR_0482_1.png  \n",
            "  inflating: ChinaSet_AllFiles/CXR_png/CHNCXR_0483_1.png  \n",
            "  inflating: ChinaSet_AllFiles/CXR_png/CHNCXR_0484_1.png  \n",
            "  inflating: ChinaSet_AllFiles/CXR_png/CHNCXR_0485_1.png  \n",
            "  inflating: ChinaSet_AllFiles/CXR_png/CHNCXR_0486_1.png  \n",
            "  inflating: ChinaSet_AllFiles/CXR_png/CHNCXR_0487_1.png  \n",
            "  inflating: ChinaSet_AllFiles/CXR_png/CHNCXR_0488_1.png  \n",
            "  inflating: ChinaSet_AllFiles/CXR_png/CHNCXR_0489_1.png  \n",
            "  inflating: ChinaSet_AllFiles/CXR_png/CHNCXR_0490_1.png  \n",
            "  inflating: ChinaSet_AllFiles/CXR_png/CHNCXR_0491_1.png  \n",
            "  inflating: ChinaSet_AllFiles/CXR_png/CHNCXR_0492_1.png  \n",
            "  inflating: ChinaSet_AllFiles/CXR_png/CHNCXR_0493_1.png  \n",
            "  inflating: ChinaSet_AllFiles/CXR_png/CHNCXR_0494_1.png  \n",
            "  inflating: ChinaSet_AllFiles/CXR_png/CHNCXR_0495_1.png  \n",
            "  inflating: ChinaSet_AllFiles/CXR_png/CHNCXR_0496_1.png  \n",
            "  inflating: ChinaSet_AllFiles/CXR_png/CHNCXR_0497_1.png  \n",
            "  inflating: ChinaSet_AllFiles/CXR_png/CHNCXR_0498_1.png  \n",
            "  inflating: ChinaSet_AllFiles/CXR_png/CHNCXR_0499_1.png  \n",
            "  inflating: ChinaSet_AllFiles/CXR_png/CHNCXR_0500_1.png  \n",
            "  inflating: ChinaSet_AllFiles/CXR_png/CHNCXR_0501_1.png  \n",
            "  inflating: ChinaSet_AllFiles/CXR_png/CHNCXR_0502_1.png  \n",
            "  inflating: ChinaSet_AllFiles/CXR_png/CHNCXR_0503_1.png  \n",
            "  inflating: ChinaSet_AllFiles/CXR_png/CHNCXR_0504_1.png  \n",
            "  inflating: ChinaSet_AllFiles/CXR_png/CHNCXR_0505_1.png  \n",
            "  inflating: ChinaSet_AllFiles/CXR_png/CHNCXR_0506_1.png  \n",
            "  inflating: ChinaSet_AllFiles/CXR_png/CHNCXR_0507_1.png  \n",
            "  inflating: ChinaSet_AllFiles/CXR_png/CHNCXR_0508_1.png  \n",
            "  inflating: ChinaSet_AllFiles/CXR_png/CHNCXR_0509_1.png  \n",
            "  inflating: ChinaSet_AllFiles/CXR_png/CHNCXR_0510_1.png  \n",
            "  inflating: ChinaSet_AllFiles/CXR_png/CHNCXR_0511_1.png  \n",
            "  inflating: ChinaSet_AllFiles/CXR_png/CHNCXR_0512_1.png  \n",
            "  inflating: ChinaSet_AllFiles/CXR_png/CHNCXR_0513_1.png  \n",
            "  inflating: ChinaSet_AllFiles/CXR_png/CHNCXR_0514_1.png  \n",
            "  inflating: ChinaSet_AllFiles/CXR_png/CHNCXR_0515_1.png  \n",
            "  inflating: ChinaSet_AllFiles/CXR_png/CHNCXR_0516_1.png  \n",
            "  inflating: ChinaSet_AllFiles/CXR_png/CHNCXR_0517_1.png  \n",
            "  inflating: ChinaSet_AllFiles/CXR_png/CHNCXR_0518_1.png  \n",
            "  inflating: ChinaSet_AllFiles/CXR_png/CHNCXR_0519_1.png  \n",
            "  inflating: ChinaSet_AllFiles/CXR_png/CHNCXR_0520_1.png  \n",
            "  inflating: ChinaSet_AllFiles/CXR_png/CHNCXR_0521_1.png  \n",
            "  inflating: ChinaSet_AllFiles/CXR_png/CHNCXR_0522_1.png  \n",
            "  inflating: ChinaSet_AllFiles/CXR_png/CHNCXR_0523_1.png  \n",
            "  inflating: ChinaSet_AllFiles/CXR_png/CHNCXR_0524_1.png  \n",
            "  inflating: ChinaSet_AllFiles/CXR_png/CHNCXR_0525_1.png  \n",
            "  inflating: ChinaSet_AllFiles/CXR_png/CHNCXR_0526_1.png  \n",
            "  inflating: ChinaSet_AllFiles/CXR_png/CHNCXR_0527_1.png  \n",
            "  inflating: ChinaSet_AllFiles/CXR_png/CHNCXR_0528_1.png  \n",
            "  inflating: ChinaSet_AllFiles/CXR_png/CHNCXR_0529_1.png  \n",
            "  inflating: ChinaSet_AllFiles/CXR_png/CHNCXR_0530_1.png  \n",
            "  inflating: ChinaSet_AllFiles/CXR_png/CHNCXR_0531_1.png  \n",
            "  inflating: ChinaSet_AllFiles/CXR_png/CHNCXR_0532_1.png  \n",
            "  inflating: ChinaSet_AllFiles/CXR_png/CHNCXR_0533_1.png  \n",
            "  inflating: ChinaSet_AllFiles/CXR_png/CHNCXR_0534_1.png  \n",
            "  inflating: ChinaSet_AllFiles/CXR_png/CHNCXR_0535_1.png  \n",
            "  inflating: ChinaSet_AllFiles/CXR_png/CHNCXR_0536_1.png  \n",
            "  inflating: ChinaSet_AllFiles/CXR_png/CHNCXR_0537_1.png  \n",
            "  inflating: ChinaSet_AllFiles/CXR_png/CHNCXR_0538_1.png  \n",
            "  inflating: ChinaSet_AllFiles/CXR_png/CHNCXR_0539_1.png  \n",
            "  inflating: ChinaSet_AllFiles/CXR_png/CHNCXR_0540_1.png  \n",
            "  inflating: ChinaSet_AllFiles/CXR_png/CHNCXR_0541_1.png  \n",
            "  inflating: ChinaSet_AllFiles/CXR_png/CHNCXR_0542_1.png  \n",
            "  inflating: ChinaSet_AllFiles/CXR_png/CHNCXR_0543_1.png  \n",
            "  inflating: ChinaSet_AllFiles/CXR_png/CHNCXR_0544_1.png  \n",
            "  inflating: ChinaSet_AllFiles/CXR_png/CHNCXR_0545_1.png  \n",
            "  inflating: ChinaSet_AllFiles/CXR_png/CHNCXR_0546_1.png  \n",
            "  inflating: ChinaSet_AllFiles/CXR_png/CHNCXR_0547_1.png  \n",
            "  inflating: ChinaSet_AllFiles/CXR_png/CHNCXR_0548_1.png  \n",
            "  inflating: ChinaSet_AllFiles/CXR_png/CHNCXR_0549_1.png  \n",
            "  inflating: ChinaSet_AllFiles/CXR_png/CHNCXR_0550_1.png  \n",
            "  inflating: ChinaSet_AllFiles/CXR_png/CHNCXR_0551_1.png  \n",
            "  inflating: ChinaSet_AllFiles/CXR_png/CHNCXR_0552_1.png  \n",
            "  inflating: ChinaSet_AllFiles/CXR_png/CHNCXR_0553_1.png  \n",
            "  inflating: ChinaSet_AllFiles/CXR_png/CHNCXR_0554_1.png  \n",
            "  inflating: ChinaSet_AllFiles/CXR_png/CHNCXR_0555_1.png  \n",
            "  inflating: ChinaSet_AllFiles/CXR_png/CHNCXR_0556_1.png  \n",
            "  inflating: ChinaSet_AllFiles/CXR_png/CHNCXR_0557_1.png  \n",
            "  inflating: ChinaSet_AllFiles/CXR_png/CHNCXR_0558_1.png  \n",
            "  inflating: ChinaSet_AllFiles/CXR_png/CHNCXR_0559_1.png  \n",
            "  inflating: ChinaSet_AllFiles/CXR_png/CHNCXR_0560_1.png  \n",
            "  inflating: ChinaSet_AllFiles/CXR_png/CHNCXR_0561_1.png  \n",
            "  inflating: ChinaSet_AllFiles/CXR_png/CHNCXR_0562_1.png  \n",
            "  inflating: ChinaSet_AllFiles/CXR_png/CHNCXR_0563_1.png  \n",
            "  inflating: ChinaSet_AllFiles/CXR_png/CHNCXR_0564_1.png  \n",
            "  inflating: ChinaSet_AllFiles/CXR_png/CHNCXR_0565_1.png  \n",
            "  inflating: ChinaSet_AllFiles/CXR_png/CHNCXR_0566_1.png  \n",
            "  inflating: ChinaSet_AllFiles/CXR_png/CHNCXR_0567_1.png  \n",
            "  inflating: ChinaSet_AllFiles/CXR_png/CHNCXR_0568_1.png  \n",
            "  inflating: ChinaSet_AllFiles/CXR_png/CHNCXR_0569_1.png  \n",
            "  inflating: ChinaSet_AllFiles/CXR_png/CHNCXR_0570_1.png  \n",
            "  inflating: ChinaSet_AllFiles/CXR_png/CHNCXR_0571_1.png  \n",
            "  inflating: ChinaSet_AllFiles/CXR_png/CHNCXR_0572_1.png  \n",
            "  inflating: ChinaSet_AllFiles/CXR_png/CHNCXR_0573_1.png  \n",
            "  inflating: ChinaSet_AllFiles/CXR_png/CHNCXR_0574_1.png  \n",
            "  inflating: ChinaSet_AllFiles/CXR_png/CHNCXR_0575_1.png  \n",
            "  inflating: ChinaSet_AllFiles/CXR_png/CHNCXR_0576_1.png  \n",
            "  inflating: ChinaSet_AllFiles/CXR_png/CHNCXR_0577_1.png  \n",
            "  inflating: ChinaSet_AllFiles/CXR_png/CHNCXR_0578_1.png  \n",
            "  inflating: ChinaSet_AllFiles/CXR_png/CHNCXR_0579_1.png  \n",
            "  inflating: ChinaSet_AllFiles/CXR_png/CHNCXR_0580_1.png  \n",
            "  inflating: ChinaSet_AllFiles/CXR_png/CHNCXR_0581_1.png  \n",
            "  inflating: ChinaSet_AllFiles/CXR_png/CHNCXR_0582_1.png  \n",
            "  inflating: ChinaSet_AllFiles/CXR_png/CHNCXR_0583_1.png  \n",
            "  inflating: ChinaSet_AllFiles/CXR_png/CHNCXR_0584_1.png  \n",
            "  inflating: ChinaSet_AllFiles/CXR_png/CHNCXR_0585_1.png  \n",
            "  inflating: ChinaSet_AllFiles/CXR_png/CHNCXR_0586_1.png  \n",
            "  inflating: ChinaSet_AllFiles/CXR_png/CHNCXR_0587_1.png  \n",
            "  inflating: ChinaSet_AllFiles/CXR_png/CHNCXR_0588_1.png  \n",
            "  inflating: ChinaSet_AllFiles/CXR_png/CHNCXR_0589_1.png  \n",
            "  inflating: ChinaSet_AllFiles/CXR_png/CHNCXR_0590_1.png  \n",
            "  inflating: ChinaSet_AllFiles/CXR_png/CHNCXR_0591_1.png  \n",
            "  inflating: ChinaSet_AllFiles/CXR_png/CHNCXR_0592_1.png  \n",
            "  inflating: ChinaSet_AllFiles/CXR_png/CHNCXR_0593_1.png  \n",
            "  inflating: ChinaSet_AllFiles/CXR_png/CHNCXR_0594_1.png  \n",
            "  inflating: ChinaSet_AllFiles/CXR_png/CHNCXR_0595_1.png  \n",
            "  inflating: ChinaSet_AllFiles/CXR_png/CHNCXR_0596_1.png  \n",
            "  inflating: ChinaSet_AllFiles/CXR_png/CHNCXR_0597_1.png  \n",
            "  inflating: ChinaSet_AllFiles/CXR_png/CHNCXR_0598_1.png  \n",
            "  inflating: ChinaSet_AllFiles/CXR_png/CHNCXR_0599_1.png  \n",
            "  inflating: ChinaSet_AllFiles/CXR_png/CHNCXR_0600_1.png  \n",
            "  inflating: ChinaSet_AllFiles/CXR_png/CHNCXR_0601_1.png  \n",
            "  inflating: ChinaSet_AllFiles/CXR_png/CHNCXR_0602_1.png  \n",
            "  inflating: ChinaSet_AllFiles/CXR_png/CHNCXR_0603_1.png  \n",
            "  inflating: ChinaSet_AllFiles/CXR_png/CHNCXR_0604_1.png  \n",
            "  inflating: ChinaSet_AllFiles/CXR_png/CHNCXR_0605_1.png  \n",
            "  inflating: ChinaSet_AllFiles/CXR_png/CHNCXR_0606_1.png  \n",
            "  inflating: ChinaSet_AllFiles/CXR_png/CHNCXR_0607_1.png  \n",
            "  inflating: ChinaSet_AllFiles/CXR_png/CHNCXR_0608_1.png  \n",
            "  inflating: ChinaSet_AllFiles/CXR_png/CHNCXR_0609_1.png  \n",
            "  inflating: ChinaSet_AllFiles/CXR_png/CHNCXR_0610_1.png  \n",
            "  inflating: ChinaSet_AllFiles/CXR_png/CHNCXR_0611_1.png  \n",
            "  inflating: ChinaSet_AllFiles/CXR_png/CHNCXR_0612_1.png  \n",
            "  inflating: ChinaSet_AllFiles/CXR_png/CHNCXR_0613_1.png  \n",
            "  inflating: ChinaSet_AllFiles/CXR_png/CHNCXR_0614_1.png  \n",
            "  inflating: ChinaSet_AllFiles/CXR_png/CHNCXR_0615_1.png  \n",
            "  inflating: ChinaSet_AllFiles/CXR_png/CHNCXR_0616_1.png  \n",
            "  inflating: ChinaSet_AllFiles/CXR_png/CHNCXR_0617_1.png  \n",
            "  inflating: ChinaSet_AllFiles/CXR_png/CHNCXR_0618_1.png  \n",
            "  inflating: ChinaSet_AllFiles/CXR_png/CHNCXR_0619_1.png  \n",
            "  inflating: ChinaSet_AllFiles/CXR_png/CHNCXR_0620_1.png  \n",
            "  inflating: ChinaSet_AllFiles/CXR_png/CHNCXR_0621_1.png  \n",
            "  inflating: ChinaSet_AllFiles/CXR_png/CHNCXR_0622_1.png  \n",
            "  inflating: ChinaSet_AllFiles/CXR_png/CHNCXR_0623_1.png  \n",
            "  inflating: ChinaSet_AllFiles/CXR_png/CHNCXR_0624_1.png  \n",
            "  inflating: ChinaSet_AllFiles/CXR_png/CHNCXR_0625_1.png  \n",
            "  inflating: ChinaSet_AllFiles/CXR_png/CHNCXR_0626_1.png  \n",
            "  inflating: ChinaSet_AllFiles/CXR_png/CHNCXR_0627_1.png  \n",
            "  inflating: ChinaSet_AllFiles/CXR_png/CHNCXR_0628_1.png  \n",
            "  inflating: ChinaSet_AllFiles/CXR_png/CHNCXR_0629_1.png  \n",
            "  inflating: ChinaSet_AllFiles/CXR_png/CHNCXR_0630_1.png  \n",
            "  inflating: ChinaSet_AllFiles/CXR_png/CHNCXR_0631_1.png  \n",
            "  inflating: ChinaSet_AllFiles/CXR_png/CHNCXR_0632_1.png  \n",
            "  inflating: ChinaSet_AllFiles/CXR_png/CHNCXR_0633_1.png  \n",
            "  inflating: ChinaSet_AllFiles/CXR_png/CHNCXR_0634_1.png  \n",
            "  inflating: ChinaSet_AllFiles/CXR_png/CHNCXR_0635_1.png  \n",
            "  inflating: ChinaSet_AllFiles/CXR_png/CHNCXR_0636_1.png  \n",
            "  inflating: ChinaSet_AllFiles/CXR_png/CHNCXR_0637_1.png  \n",
            "  inflating: ChinaSet_AllFiles/CXR_png/CHNCXR_0638_1.png  \n",
            "  inflating: ChinaSet_AllFiles/CXR_png/CHNCXR_0639_1.png  \n",
            "  inflating: ChinaSet_AllFiles/CXR_png/CHNCXR_0640_1.png  \n",
            "  inflating: ChinaSet_AllFiles/CXR_png/CHNCXR_0641_1.png  \n",
            "  inflating: ChinaSet_AllFiles/CXR_png/CHNCXR_0642_1.png  \n",
            "  inflating: ChinaSet_AllFiles/CXR_png/CHNCXR_0643_1.png  \n",
            "  inflating: ChinaSet_AllFiles/CXR_png/CHNCXR_0644_1.png  \n",
            "  inflating: ChinaSet_AllFiles/CXR_png/CHNCXR_0645_1.png  \n",
            "  inflating: ChinaSet_AllFiles/CXR_png/CHNCXR_0646_1.png  \n",
            "  inflating: ChinaSet_AllFiles/CXR_png/CHNCXR_0647_1.png  \n",
            "  inflating: ChinaSet_AllFiles/CXR_png/CHNCXR_0648_1.png  \n",
            "  inflating: ChinaSet_AllFiles/CXR_png/CHNCXR_0649_1.png  \n",
            "  inflating: ChinaSet_AllFiles/CXR_png/CHNCXR_0650_1.png  \n",
            "  inflating: ChinaSet_AllFiles/CXR_png/CHNCXR_0651_1.png  \n",
            "  inflating: ChinaSet_AllFiles/CXR_png/CHNCXR_0652_1.png  \n",
            "  inflating: ChinaSet_AllFiles/CXR_png/CHNCXR_0653_1.png  \n",
            "  inflating: ChinaSet_AllFiles/CXR_png/CHNCXR_0654_1.png  \n",
            "  inflating: ChinaSet_AllFiles/CXR_png/CHNCXR_0655_1.png  \n",
            "  inflating: ChinaSet_AllFiles/CXR_png/CHNCXR_0656_1.png  \n",
            "  inflating: ChinaSet_AllFiles/CXR_png/CHNCXR_0657_1.png  \n",
            "  inflating: ChinaSet_AllFiles/CXR_png/CHNCXR_0658_1.png  \n",
            "  inflating: ChinaSet_AllFiles/CXR_png/CHNCXR_0659_1.png  \n",
            "  inflating: ChinaSet_AllFiles/CXR_png/CHNCXR_0660_1.png  \n",
            "  inflating: ChinaSet_AllFiles/CXR_png/CHNCXR_0661_1.png  \n",
            "  inflating: ChinaSet_AllFiles/CXR_png/CHNCXR_0662_1.png  \n",
            "  inflating: ChinaSet_AllFiles/CXR_png/Thumbs.db  \n",
            "  inflating: ChinaSet_AllFiles/NLM-ChinaCXRSet-ReadMe.docx  \n",
            "rm: missing operand\n",
            "Try 'rm --help' for more information.\n"
          ],
          "name": "stdout"
        }
      ]
    },
    {
      "cell_type": "code",
      "metadata": {
        "id": "RG-zbSZybx9o",
        "colab_type": "code",
        "colab": {}
      },
      "source": [
        "# creating two seperate data, one for patients with TB other with Non TB.\n",
        "from glob import glob\n",
        "ntb = glob('train/CXR_png/*_0.png')\n",
        "tb = glob('train/CXR_png/*_1.png')"
      ],
      "execution_count": 0,
      "outputs": []
    },
    {
      "cell_type": "code",
      "metadata": {
        "id": "RoTBZwijtXIP",
        "colab_type": "code",
        "colab": {}
      },
      "source": [
        "# create a directory called train_main and store data with TB and NonTB seperately in two folders.\n",
        "!mkdir train_main\n",
        "!mkdir train_main/ntb\n",
        "files = ' '.join(ntb)\n",
        "!mv -t train_main/ntb $files"
      ],
      "execution_count": 0,
      "outputs": []
    },
    {
      "cell_type": "code",
      "metadata": {
        "id": "95kxqYcguRmA",
        "colab_type": "code",
        "colab": {}
      },
      "source": [
        "!mkdir train_main/tb\n",
        "files = ' '.join(tb)\n",
        "!mv -t train_main/tb $files"
      ],
      "execution_count": 0,
      "outputs": []
    },
    {
      "cell_type": "code",
      "metadata": {
        "id": "XiDnWqTvxTSF",
        "colab_type": "code",
        "colab": {}
      },
      "source": [
        "ntb_1 = glob('train_main/ntb/*.png')\n",
        "tb_1 = glob('train_main/tb/*.png')"
      ],
      "execution_count": 0,
      "outputs": []
    },
    {
      "cell_type": "code",
      "metadata": {
        "id": "QU1asBk7g763",
        "colab_type": "code",
        "colab": {}
      },
      "source": [
        "# splitting data into train and test with 10% test data \n",
        "from sklearn.model_selection import train_test_split\n",
        "ntb_train, ntb_test = train_test_split(ntb_1, test_size=0.10)\n",
        "tb_train, tb_test = train_test_split(tb_1, test_size=0.10)"
      ],
      "execution_count": 0,
      "outputs": []
    },
    {
      "cell_type": "code",
      "metadata": {
        "id": "cXjzQtCpRXPO",
        "colab_type": "code",
        "colab": {}
      },
      "source": [
        "# create new directories for test data\n",
        "!mkdir test\n",
        "!mkdir test/ntb\n",
        "files = ' '.join(ntb_test)\n",
        "!mv -t test/ntb $files\n",
        "\n",
        "!mkdir test/tb\n",
        "files = ' '.join(tb_test)\n",
        "!mv -t test/tb $files"
      ],
      "execution_count": 0,
      "outputs": []
    },
    {
      "cell_type": "code",
      "metadata": {
        "id": "ELEUBOEvy9AX",
        "colab_type": "code",
        "colab": {}
      },
      "source": [
        "# defining test and train models in constants\n",
        "TRAIN_DIR = 'train_main'\n",
        "TEST_DIR = 'test'"
      ],
      "execution_count": 0,
      "outputs": []
    },
    {
      "cell_type": "markdown",
      "metadata": {
        "id": "hvhkWGlAlA8U",
        "colab_type": "text"
      },
      "source": [
        "### Inception V3:"
      ]
    },
    {
      "cell_type": "code",
      "metadata": {
        "id": "JgMlAuUzkvaY",
        "colab_type": "code",
        "colab": {
          "base_uri": "https://localhost:8080/",
          "height": 173
        },
        "outputId": "784dec2a-168c-478b-ff3c-3fd34f6bbde3"
      },
      "source": [
        "from keras.models import Model\n",
        "from keras.layers import Dense, GlobalAveragePooling2D, Dropout\n",
        "from keras.applications.inception_v3 import InceptionV3, preprocess_input\n",
        "\n",
        "CLASSES = 2\n",
        "    \n",
        "# setup model\n",
        "base_model = InceptionV3(weights='imagenet', include_top=False)\n",
        "\n",
        "x = base_model.output\n",
        "x = GlobalAveragePooling2D(name='avg_pool')(x)\n",
        "x = Dropout(0.4)(x)\n",
        "predictions = Dense(CLASSES, activation='softmax')(x)\n",
        "model = Model(inputs=base_model.input, outputs=predictions)\n",
        "   \n",
        "# transfer learning\n",
        "for layer in base_model.layers:\n",
        "    layer.trainable = False\n",
        "      \n",
        "model.compile(optimizer='rmsprop',\n",
        "              loss='binary_crossentropy',\n",
        "              metrics=['accuracy'])"
      ],
      "execution_count": 12,
      "outputs": [
        {
          "output_type": "stream",
          "text": [
            "WARNING:tensorflow:From /usr/local/lib/python3.6/dist-packages/tensorflow/python/framework/op_def_library.py:263: colocate_with (from tensorflow.python.framework.ops) is deprecated and will be removed in a future version.\n",
            "Instructions for updating:\n",
            "Colocations handled automatically by placer.\n",
            "Downloading data from https://github.com/fchollet/deep-learning-models/releases/download/v0.5/inception_v3_weights_tf_dim_ordering_tf_kernels_notop.h5\n",
            "87916544/87910968 [==============================] - 2s 0us/step\n",
            "WARNING:tensorflow:From /usr/local/lib/python3.6/dist-packages/keras/backend/tensorflow_backend.py:3445: calling dropout (from tensorflow.python.ops.nn_ops) with keep_prob is deprecated and will be removed in a future version.\n",
            "Instructions for updating:\n",
            "Please use `rate` instead of `keep_prob`. Rate should be set to `rate = 1 - keep_prob`.\n"
          ],
          "name": "stdout"
        }
      ]
    },
    {
      "cell_type": "markdown",
      "metadata": {
        "id": "Yi-rbeHuQnux",
        "colab_type": "text"
      },
      "source": [
        "** Image data augmentation is used to expand the training dataset in order to improve the performance and ability of the model to generalize.**"
      ]
    },
    {
      "cell_type": "markdown",
      "metadata": {
        "id": "EuEYq1Dum2BI",
        "colab_type": "text"
      },
      "source": [
        "### Data augmentation:"
      ]
    },
    {
      "cell_type": "code",
      "metadata": {
        "id": "6HhBNXlpmjOs",
        "colab_type": "code",
        "outputId": "3be23f4d-90bf-49fe-ae38-b0487496f052",
        "colab": {
          "base_uri": "https://localhost:8080/",
          "height": 51
        }
      },
      "source": [
        "from keras.preprocessing.image import ImageDataGenerator\n",
        "\n",
        "WIDTH = 299\n",
        "HEIGHT = 299\n",
        "BATCH_SIZE = 32\n",
        "\n",
        "# data prep\n",
        "train_datagen = ImageDataGenerator(\n",
        "    preprocessing_function=preprocess_input,\n",
        "    rotation_range=40,\n",
        "    width_shift_range=0.2,\n",
        "    height_shift_range=0.2,\n",
        "    shear_range=0.2,\n",
        "    zoom_range=0.2,\n",
        "    horizontal_flip=True,\n",
        "    fill_mode='nearest')\n",
        "\n",
        "validation_datagen = ImageDataGenerator(\n",
        "    preprocessing_function=preprocess_input,\n",
        "    rotation_range=40,\n",
        "    width_shift_range=0.2,\n",
        "    height_shift_range=0.2,\n",
        "    shear_range=0.2,\n",
        "    zoom_range=0.2,\n",
        "    horizontal_flip=True,\n",
        "    fill_mode='nearest')\n",
        "\n",
        "train_generator = train_datagen.flow_from_directory(\n",
        "    TRAIN_DIR,\n",
        "    target_size=(HEIGHT, WIDTH),\n",
        "\t\tbatch_size=BATCH_SIZE,\n",
        "\t\tclass_mode='categorical')\n",
        "    \n",
        "validation_generator = validation_datagen.flow_from_directory(\n",
        "    TEST_DIR,\n",
        "    target_size=(HEIGHT, WIDTH),\n",
        "    batch_size=BATCH_SIZE,\n",
        "    class_mode='categorical')"
      ],
      "execution_count": 13,
      "outputs": [
        {
          "output_type": "stream",
          "text": [
            "Found 595 images belonging to 2 classes.\n",
            "Found 67 images belonging to 2 classes.\n"
          ],
          "name": "stdout"
        }
      ]
    },
    {
      "cell_type": "code",
      "metadata": {
        "id": "YU9tCe-PnCrY",
        "colab_type": "code",
        "outputId": "0fea2d51-e257-4fcf-aae1-ea02065a90a8",
        "colab": {
          "base_uri": "https://localhost:8080/",
          "height": 258
        }
      },
      "source": [
        "EPOCHS = 5\n",
        "BATCH_SIZE = 32\n",
        "STEPS_PER_EPOCH = 320\n",
        "VALIDATION_STEPS = 64\n",
        "\n",
        "MODEL_FILE = 'filename.model'\n",
        "\n",
        "history = model.fit_generator(\n",
        "    train_generator,\n",
        "    epochs=EPOCHS,\n",
        "    steps_per_epoch=STEPS_PER_EPOCH,\n",
        "    validation_data=validation_generator,\n",
        "    validation_steps=VALIDATION_STEPS)\n",
        "  \n",
        "model.save(MODEL_FILE)"
      ],
      "execution_count": 14,
      "outputs": [
        {
          "output_type": "stream",
          "text": [
            "WARNING:tensorflow:From /usr/local/lib/python3.6/dist-packages/tensorflow/python/ops/math_ops.py:3066: to_int32 (from tensorflow.python.ops.math_ops) is deprecated and will be removed in a future version.\n",
            "Instructions for updating:\n",
            "Use tf.cast instead.\n",
            "Epoch 1/5\n",
            "320/320 [==============================] - 1103s 3s/step - loss: 0.6060 - acc: 0.6803 - val_loss: 1.1975 - val_acc: 0.4934\n",
            "Epoch 2/5\n",
            "320/320 [==============================] - 1053s 3s/step - loss: 0.5279 - acc: 0.7506 - val_loss: 1.0031 - val_acc: 0.5087\n",
            "Epoch 3/5\n",
            "320/320 [==============================] - 1052s 3s/step - loss: 0.5140 - acc: 0.7639 - val_loss: 1.1354 - val_acc: 0.5078\n",
            "Epoch 4/5\n",
            "320/320 [==============================] - 1048s 3s/step - loss: 0.5050 - acc: 0.7657 - val_loss: 0.8262 - val_acc: 0.5483\n",
            "Epoch 5/5\n",
            "320/320 [==============================] - 1044s 3s/step - loss: 0.5001 - acc: 0.7724 - val_loss: 0.7300 - val_acc: 0.5921\n"
          ],
          "name": "stdout"
        }
      ]
    },
    {
      "cell_type": "code",
      "metadata": {
        "id": "DChuJXBjBw_-",
        "colab_type": "code",
        "colab": {
          "base_uri": "https://localhost:8080/",
          "height": 34
        },
        "outputId": "a44cd8ec-b7a2-4a7c-f7b8-e23018dad2cf"
      },
      "source": [
        "# testing the model\n",
        "model.evaluate_generator(validation_generator, steps=1,  max_queue_size=10, workers=1, use_multiprocessing=False, verbose=0)"
      ],
      "execution_count": 16,
      "outputs": [
        {
          "output_type": "execute_result",
          "data": {
            "text/plain": [
              "[0.7830418944358826, 0.5625]"
            ]
          },
          "metadata": {
            "tags": []
          },
          "execution_count": 16
        }
      ]
    },
    {
      "cell_type": "code",
      "metadata": {
        "id": "-Mnxx6EwPqqy",
        "colab_type": "code",
        "outputId": "d78356b0-5b9d-449a-ca9f-2b31cea2274d",
        "colab": {
          "base_uri": "https://localhost:8080/",
          "height": 295
        }
      },
      "source": [
        "# summarize history for loss\n",
        "plt.figure()\n",
        "plt.plot(history.history['loss'])\n",
        "plt.plot(history.history['val_loss'])\n",
        "plt.title('model loss')\n",
        "plt.ylabel('loss')\n",
        "plt.xlabel('epoch')\n",
        "plt.legend(['train', 'test'], loc='upper right')\n",
        "plt.show()"
      ],
      "execution_count": 17,
      "outputs": [
        {
          "output_type": "display_data",
          "data": {
            "image/png": "[encoded data removed]",
            "text/plain": [
              "<Figure size 432x288 with 1 Axes>"
            ]
          },
          "metadata": {
            "tags": []
          }
        }
      ]
    },
    {
      "cell_type": "code",
      "metadata": {
        "id": "VI-R67MPB-iP",
        "colab_type": "code",
        "colab": {}
      },
      "source": [
        ""
      ],
      "execution_count": 0,
      "outputs": []
    },
    {
      "cell_type": "markdown",
      "metadata": {
        "id": "NBTMhPIQzDrM",
        "colab_type": "text"
      },
      "source": [
        "## RESNET 50"
      ]
    },
    {
      "cell_type": "code",
      "metadata": {
        "id": "2FKhNXUOkse_",
        "colab_type": "code",
        "outputId": "15247709-ed53-40cc-cf44-05886725d85e",
        "colab": {
          "base_uri": "https://localhost:8080/",
          "height": 105
        }
      },
      "source": [
        "from keras.applications.resnet50 import ResNet50, preprocess_input\n",
        "HEIGHT = 300\n",
        "WIDTH = 300\n",
        "CLASSES = 2\n",
        "base_model = ResNet50(weights='imagenet', \n",
        "                      include_top=False, \n",
        "                      input_shape=(HEIGHT, WIDTH, 3))\n"
      ],
      "execution_count": 18,
      "outputs": [
        {
          "output_type": "stream",
          "text": [
            "/usr/local/lib/python3.6/dist-packages/keras_applications/resnet50.py:265: UserWarning: The output shape of `ResNet50(include_top=False)` has been changed since Keras 2.2.0.\n",
            "  warnings.warn('The output shape of `ResNet50(include_top=False)` '\n"
          ],
          "name": "stderr"
        },
        {
          "output_type": "stream",
          "text": [
            "Downloading data from https://github.com/fchollet/deep-learning-models/releases/download/v0.2/resnet50_weights_tf_dim_ordering_tf_kernels_notop.h5\n",
            "94658560/94653016 [==============================] - 3s 0us/step\n"
          ],
          "name": "stdout"
        }
      ]
    },
    {
      "cell_type": "code",
      "metadata": {
        "id": "5_6HQh1dk_fJ",
        "colab_type": "code",
        "colab": {}
      },
      "source": [
        "x = base_model.output\n",
        "x = GlobalAveragePooling2D(name='avg_pool')(x)\n",
        "x = Dropout(0.4)(x)\n",
        "predictions = Dense(CLASSES, activation='softmax')(x)\n",
        "model = Model(inputs=base_model.input, outputs=predictions)\n",
        "   \n",
        "# transfer learning\n",
        "for layer in base_model.layers:\n",
        "    layer.trainable = False\n",
        "      \n",
        "model.compile(optimizer='rmsprop',\n",
        "              loss='binary_crossentropy',\n",
        "              metrics=['accuracy'])"
      ],
      "execution_count": 0,
      "outputs": []
    },
    {
      "cell_type": "code",
      "metadata": {
        "id": "BErW_L0flOUy",
        "colab_type": "code",
        "colab": {
          "base_uri": "https://localhost:8080/",
          "height": 51
        },
        "outputId": "905afba7-02cc-406c-cf3e-42077172667a"
      },
      "source": [
        "from keras.preprocessing.image import ImageDataGenerator\n",
        "\n",
        "BATCH_SIZE = 32\n",
        "\n",
        "# data prep\n",
        "train_datagen = ImageDataGenerator(\n",
        "    preprocessing_function=preprocess_input,\n",
        "    rotation_range=40,\n",
        "    width_shift_range=0.2,\n",
        "    height_shift_range=0.2,\n",
        "    shear_range=0.2,\n",
        "    zoom_range=0.2,\n",
        "    horizontal_flip=True,\n",
        "    fill_mode='nearest')\n",
        "\n",
        "validation_datagen = ImageDataGenerator(\n",
        "    preprocessing_function=preprocess_input,\n",
        "    rotation_range=40,\n",
        "    width_shift_range=0.2,\n",
        "    height_shift_range=0.2,\n",
        "    shear_range=0.2,\n",
        "    zoom_range=0.2,\n",
        "    horizontal_flip=True,\n",
        "    fill_mode='nearest')\n",
        "\n",
        "train_generator = train_datagen.flow_from_directory(\n",
        "    TRAIN_DIR,\n",
        "    target_size=(HEIGHT, WIDTH),\n",
        "\t\tbatch_size=BATCH_SIZE,\n",
        "\t\tclass_mode='categorical')\n",
        "    \n",
        "validation_generator = validation_datagen.flow_from_directory(\n",
        "    TEST_DIR,\n",
        "    target_size=(HEIGHT, WIDTH),\n",
        "    batch_size=BATCH_SIZE,\n",
        "    class_mode='categorical')"
      ],
      "execution_count": 20,
      "outputs": [
        {
          "output_type": "stream",
          "text": [
            "Found 595 images belonging to 2 classes.\n",
            "Found 67 images belonging to 2 classes.\n"
          ],
          "name": "stdout"
        }
      ]
    },
    {
      "cell_type": "code",
      "metadata": {
        "id": "VjiQEjXaliYZ",
        "colab_type": "code",
        "outputId": "53300c2b-e421-4223-d784-d3682f2f5977",
        "colab": {
          "base_uri": "https://localhost:8080/",
          "height": 187
        }
      },
      "source": [
        "EPOCHS = 5\n",
        "BATCH_SIZE = 32\n",
        "STEPS_PER_EPOCH = 320\n",
        "VALIDATION_STEPS = 64\n",
        "\n",
        "MODEL_FILE = 'resnet.model'\n",
        "\n",
        "history = model.fit_generator(\n",
        "    train_generator,\n",
        "    epochs=EPOCHS,\n",
        "    steps_per_epoch=STEPS_PER_EPOCH,\n",
        "    validation_data=validation_generator,\n",
        "    validation_steps=VALIDATION_STEPS)\n",
        "  \n",
        "model.save(MODEL_FILE)"
      ],
      "execution_count": 21,
      "outputs": [
        {
          "output_type": "stream",
          "text": [
            "Epoch 1/5\n",
            "320/320 [==============================] - 1092s 3s/step - loss: 0.5409 - acc: 0.7496 - val_loss: 0.9962 - val_acc: 0.5254\n",
            "Epoch 2/5\n",
            "320/320 [==============================] - 1043s 3s/step - loss: 0.4713 - acc: 0.7956 - val_loss: 0.8136 - val_acc: 0.5608\n",
            "Epoch 3/5\n",
            "320/320 [==============================] - 1047s 3s/step - loss: 0.4491 - acc: 0.8071 - val_loss: 0.9624 - val_acc: 0.5298\n",
            "Epoch 4/5\n",
            "320/320 [==============================] - 1047s 3s/step - loss: 0.4382 - acc: 0.8096 - val_loss: 1.2458 - val_acc: 0.4997\n",
            "Epoch 5/5\n",
            "320/320 [==============================] - 1055s 3s/step - loss: 0.4383 - acc: 0.8117 - val_loss: 1.7746 - val_acc: 0.4976\n"
          ],
          "name": "stdout"
        }
      ]
    },
    {
      "cell_type": "code",
      "metadata": {
        "id": "UM41B2GVQ9xW",
        "colab_type": "code",
        "colab": {
          "base_uri": "https://localhost:8080/",
          "height": 34
        },
        "outputId": "42a19d3d-67ae-4979-c779-35f41c02f86b"
      },
      "source": [
        "# testing the model\n",
        "model.evaluate_generator(validation_generator, steps=1,  max_queue_size=10, workers=1, use_multiprocessing=False, verbose=0)"
      ],
      "execution_count": 22,
      "outputs": [
        {
          "output_type": "execute_result",
          "data": {
            "text/plain": [
              "[2.0481433868408203, 0.4375]"
            ]
          },
          "metadata": {
            "tags": []
          },
          "execution_count": 22
        }
      ]
    },
    {
      "cell_type": "code",
      "metadata": {
        "id": "4tXQvdjvRFAi",
        "colab_type": "code",
        "colab": {
          "base_uri": "https://localhost:8080/",
          "height": 295
        },
        "outputId": "b599a1ef-a5f4-4818-b33c-ff5a9f0d607a"
      },
      "source": [
        "# summarize history for loss\n",
        "plt.figure()\n",
        "plt.plot(history.history['loss'])\n",
        "plt.plot(history.history['val_loss'])\n",
        "plt.title('model loss')\n",
        "plt.ylabel('loss')\n",
        "plt.xlabel('epoch')\n",
        "plt.legend(['train', 'test'], loc='upper right')\n",
        "plt.show()"
      ],
      "execution_count": 23,
      "outputs": [
        {
          "output_type": "display_data",
          "data": {
            "image/png": "[encoded data removed]",
            "text/plain": [
              "<Figure size 432x288 with 1 Axes>"
            ]
          },
          "metadata": {
            "tags": []
          }
        }
      ]
    },
    {
      "cell_type": "markdown",
      "metadata": {
        "id": "jrxe6qifzHyF",
        "colab_type": "text"
      },
      "source": [
        "## VGG 19"
      ]
    },
    {
      "cell_type": "code",
      "metadata": {
        "id": "r9OCsMhWoYwE",
        "colab_type": "code",
        "outputId": "c6b08ce8-d9bf-42a8-ec23-12bb8fb3f743",
        "colab": {
          "base_uri": "https://localhost:8080/",
          "height": 51
        }
      },
      "source": [
        "from keras.applications import VGG19\n",
        "HEIGHT = 224\n",
        "WIDTH = 224\n",
        "CLASSES = 2\n",
        "BATCH_SIZE = 32\n",
        " \n",
        "base_model = VGG19(weights='imagenet',\n",
        "                  include_top=False,\n",
        "                  input_shape=(HEIGHT, WIDTH, 3))"
      ],
      "execution_count": 24,
      "outputs": [
        {
          "output_type": "stream",
          "text": [
            "Downloading data from https://github.com/fchollet/deep-learning-models/releases/download/v0.1/vgg19_weights_tf_dim_ordering_tf_kernels_notop.h5\n",
            "80142336/80134624 [==============================] - 2s 0us/step\n"
          ],
          "name": "stdout"
        }
      ]
    },
    {
      "cell_type": "code",
      "metadata": {
        "colab_type": "code",
        "id": "10Y5yOhytseh",
        "colab": {}
      },
      "source": [
        "from keras.models import Model\n",
        "from keras.layers import Dense, GlobalAveragePooling2D, Dropout\n",
        "from keras.applications.vgg19 import vgg19, preprocess_input\n",
        "\n",
        "x = base_model.output\n",
        "x = GlobalAveragePooling2D(name='avg_pool')(x)\n",
        "x = Dropout(0.4)(x)\n",
        "predictions = Dense(CLASSES, activation='softmax')(x)\n",
        "model = Model(inputs=base_model.input, outputs=predictions)\n",
        "   \n",
        "# transfer learning\n",
        "for layer in base_model.layers:\n",
        "    layer.trainable = False\n",
        "      \n",
        "model.compile(optimizer='rmsprop',\n",
        "              loss='binary_crossentropy',\n",
        "              metrics=['accuracy'])"
      ],
      "execution_count": 0,
      "outputs": []
    },
    {
      "cell_type": "code",
      "metadata": {
        "id": "Vv8nvNdMqBP3",
        "colab_type": "code",
        "outputId": "d383c5a6-e934-4664-8e66-868afc941ce8",
        "colab": {
          "base_uri": "https://localhost:8080/",
          "height": 51
        }
      },
      "source": [
        "from keras.preprocessing.image import ImageDataGenerator\n",
        "\n",
        "\n",
        "# data prep\n",
        "train_datagen = ImageDataGenerator(\n",
        "    preprocessing_function=preprocess_input,\n",
        "    rotation_range=40,\n",
        "    width_shift_range=0.2,\n",
        "    height_shift_range=0.2,\n",
        "    shear_range=0.2,\n",
        "    zoom_range=0.2,\n",
        "    horizontal_flip=True,\n",
        "    fill_mode='nearest')\n",
        "\n",
        "validation_datagen = ImageDataGenerator(\n",
        "    preprocessing_function=preprocess_input,\n",
        "    rotation_range=40,\n",
        "    width_shift_range=0.2,\n",
        "    height_shift_range=0.2,\n",
        "    shear_range=0.2,\n",
        "    zoom_range=0.2,\n",
        "    horizontal_flip=True,\n",
        "    fill_mode='nearest')\n",
        "\n",
        "train_generator = train_datagen.flow_from_directory(\n",
        "    TRAIN_DIR,\n",
        "    target_size=(HEIGHT, WIDTH),\n",
        "\t\tbatch_size=BATCH_SIZE,\n",
        "\t\tclass_mode='categorical')\n",
        "    \n",
        "validation_generator = validation_datagen.flow_from_directory(\n",
        "    TEST_DIR,\n",
        "    target_size=(HEIGHT, WIDTH),\n",
        "    batch_size=BATCH_SIZE,\n",
        "    class_mode='categorical')"
      ],
      "execution_count": 26,
      "outputs": [
        {
          "output_type": "stream",
          "text": [
            "Found 595 images belonging to 2 classes.\n",
            "Found 67 images belonging to 2 classes.\n"
          ],
          "name": "stdout"
        }
      ]
    },
    {
      "cell_type": "code",
      "metadata": {
        "id": "dBjyaPqJ1qJw",
        "colab_type": "code",
        "outputId": "1992e009-a02f-40b9-83eb-ed386355c242",
        "colab": {
          "base_uri": "https://localhost:8080/",
          "height": 187
        }
      },
      "source": [
        "EPOCHS = 5\n",
        "BATCH_SIZE = 32\n",
        "STEPS_PER_EPOCH = 320\n",
        "VALIDATION_STEPS = 64\n",
        "\n",
        "MODEL_FILE = 'vgg19.model'\n",
        "\n",
        "history = model.fit_generator(\n",
        "    train_generator,\n",
        "    epochs=EPOCHS,\n",
        "    steps_per_epoch=STEPS_PER_EPOCH,\n",
        "    validation_data=validation_generator,\n",
        "    validation_steps=VALIDATION_STEPS)\n",
        "  \n",
        "model.save(MODEL_FILE)"
      ],
      "execution_count": 27,
      "outputs": [
        {
          "output_type": "stream",
          "text": [
            "Epoch 1/5\n",
            "320/320 [==============================] - 1029s 3s/step - loss: 1.0649 - acc: 0.6947 - val_loss: 0.4783 - val_acc: 0.8047\n",
            "Epoch 2/5\n",
            "320/320 [==============================] - 991s 3s/step - loss: 0.5543 - acc: 0.7749 - val_loss: 0.5389 - val_acc: 0.7755\n",
            "Epoch 3/5\n",
            "320/320 [==============================] - 982s 3s/step - loss: 0.5115 - acc: 0.7794 - val_loss: 0.5436 - val_acc: 0.7362\n",
            "Epoch 4/5\n",
            "320/320 [==============================] - 997s 3s/step - loss: 0.4873 - acc: 0.7882 - val_loss: 0.4947 - val_acc: 0.7985\n",
            "Epoch 5/5\n",
            "320/320 [==============================] - 996s 3s/step - loss: 0.4903 - acc: 0.7864 - val_loss: 0.4267 - val_acc: 0.8277\n"
          ],
          "name": "stdout"
        }
      ]
    },
    {
      "cell_type": "code",
      "metadata": {
        "id": "yCXVq84NCuOJ",
        "colab_type": "code",
        "outputId": "12d6563d-2a63-4e95-e7a1-c5d90a840f5f",
        "colab": {
          "base_uri": "https://localhost:8080/",
          "height": 34
        }
      },
      "source": [
        "# testing the model\n",
        "model.evaluate_generator(validation_generator, steps=1,  max_queue_size=10, workers=1, use_multiprocessing=False, verbose=0)"
      ],
      "execution_count": 28,
      "outputs": [
        {
          "output_type": "execute_result",
          "data": {
            "text/plain": [
              "[0.4274943470954895, 0.78125]"
            ]
          },
          "metadata": {
            "tags": []
          },
          "execution_count": 28
        }
      ]
    },
    {
      "cell_type": "code",
      "metadata": {
        "id": "77lVe-loMXqQ",
        "colab_type": "code",
        "outputId": "b064d984-ca3c-4278-dc94-711776d813e3",
        "colab": {
          "base_uri": "https://localhost:8080/",
          "height": 295
        }
      },
      "source": [
        "# summarize history for loss\n",
        "plt.figure()\n",
        "plt.plot(history.history['loss'])\n",
        "plt.plot(history.history['val_loss'])\n",
        "plt.title('model loss')\n",
        "plt.ylabel('loss')\n",
        "plt.xlabel('epoch')\n",
        "plt.legend(['train', 'test'], loc='upper right')\n",
        "plt.show()"
      ],
      "execution_count": 29,
      "outputs": [
        {
          "output_type": "display_data",
          "data": {
            "image/png": "[encoded data removed]",
            "text/plain": [
              "<Figure size 432x288 with 1 Axes>"
            ]
          },
          "metadata": {
            "tags": []
          }
        }
      ]
    },
    {
      "cell_type": "markdown",
      "metadata": {
        "id": "0vvonwQHyQeG",
        "colab_type": "text"
      },
      "source": [
        "## Summary:"
      ]
    },
    {
      "cell_type": "code",
      "metadata": {
        "id": "Orlo3f1JuM34",
        "colab_type": "code",
        "colab": {
          "base_uri": "https://localhost:8080/",
          "height": 136
        },
        "outputId": "0c3440cc-ec4d-47e5-8bed-d053efd4b4eb"
      },
      "source": [
        "from prettytable import PrettyTable\n",
        "    \n",
        "x = PrettyTable()\n",
        "\n",
        "x.field_names = [\"Model\", \"Test loss\", \"Test Accuracy\"]\n",
        "\n",
        "x.add_row([\"Inception V3\", \"0.56\", \"0.78\"])\n",
        "x.add_row([\"Resnet 50\", \"2.04\", \"0.43\"])\n",
        "x.add_row([\"VGG 19\", \"0.42\", '0.78'])\n",
        "\n",
        "\n",
        "print(x)"
      ],
      "execution_count": 30,
      "outputs": [
        {
          "output_type": "stream",
          "text": [
            "+--------------+-----------+---------------+\n",
            "|    Model     | Test loss | Test Accuracy |\n",
            "+--------------+-----------+---------------+\n",
            "| Inception V3 |    0.56   |      0.78     |\n",
            "|  Resnet 50   |    2.04   |      0.43     |\n",
            "|    VGG 19    |    0.42   |      0.78     |\n",
            "+--------------+-----------+---------------+\n"
          ],
          "name": "stdout"
        }
      ]
    },
    {
      "cell_type": "markdown",
      "metadata": {
        "id": "zB5Rr04hzQdL",
        "colab_type": "text"
      },
      "source": [
        "By observing from the above data, we can clearly conclude that VGG19 works best with highest test accuracy and lowest test loss. So we would proceed predictions with VGG19 model."
      ]
    },
    {
      "cell_type": "markdown",
      "metadata": {
        "id": "8ybmj3jVzhSo",
        "colab_type": "text"
      },
      "source": [
        "#### Predictions:"
      ]
    },
    {
      "cell_type": "code",
      "metadata": {
        "id": "_GTCrGfQCpVh",
        "colab_type": "code",
        "colab": {}
      },
      "source": [
        "# defining functions to visualise and test the data \n",
        "\n",
        "\n",
        "def predict(model, img):\n",
        "    \"\"\"Run model prediction on image\n",
        "    Args:\n",
        "        model: keras model\n",
        "        img: PIL format image\n",
        "    Returns:\n",
        "        list of predicted labels and their probabilities \n",
        "    \"\"\"\n",
        "    x = image.img_to_array(img)\n",
        "    x = np.expand_dims(x, axis=0)\n",
        "    x = preprocess_input(x)\n",
        "    preds = model.predict(x)\n",
        "    return preds[0]\n",
        "  \n",
        "def plot_preds(img, preds):\n",
        "    \"\"\"Displays image and the top-n predicted probabilities in a bar graph\n",
        "    Args:\n",
        "        preds: list of predicted labels and their probabilities\n",
        "    \"\"\"\n",
        "    labels = (\"tb\", \"ntb\")\n",
        "    gs = gridspec.GridSpec(2, 1, height_ratios=[4, 1])\n",
        "    plt.figure(figsize=(8,8))\n",
        "    plt.subplot(gs[0])\n",
        "    plt.imshow(np.asarray(img))\n",
        "    plt.subplot(gs[1])\n",
        "    plt.barh([0, 1], preds, alpha=0.5)\n",
        "    plt.yticks([0, 1], labels)\n",
        "    plt.xlabel('Probability')\n",
        "    plt.xlim(0, 1)\n",
        "    plt.tight_layout()"
      ],
      "execution_count": 0,
      "outputs": []
    },
    {
      "cell_type": "code",
      "metadata": {
        "id": "m4uhvv3nDElr",
        "colab_type": "code",
        "colab": {}
      },
      "source": [
        "# importing packages\n",
        "from keras.preprocessing import image\n",
        "from keras.models import load_model\n",
        "import matplotlib.pyplot as plt\n",
        "import matplotlib.gridspec as gridspec\n",
        "model = load_model(MODEL_FILE)"
      ],
      "execution_count": 0,
      "outputs": []
    },
    {
      "cell_type": "code",
      "metadata": {
        "id": "yHhhokMrDEh9",
        "colab_type": "code",
        "outputId": "815da0bb-1b4b-4134-c2b5-9da59506e21c",
        "colab": {
          "base_uri": "https://localhost:8080/",
          "height": 602
        }
      },
      "source": [
        "# visualizing a test case\n",
        "img = image.load_img('test/tb/CHNCXR_0328_1.png', target_size=(HEIGHT, WIDTH))\n",
        "preds = predict(model, img)\n",
        "\n",
        "plot_preds(np.asarray(img), preds)\n",
        "preds"
      ],
      "execution_count": 0,
      "outputs": [
        {
          "output_type": "execute_result",
          "data": {
            "text/plain": [
              "array([0.9937085 , 0.00629148], dtype=float32)"
            ]
          },
          "metadata": {
            "tags": []
          },
          "execution_count": 14
        },
        {
          "output_type": "display_data",
          "data": {
            "image/png": "[encoded data removed]",
            "text/plain": [
              "<Figure size 576x576 with 2 Axes>"
            ]
          },
          "metadata": {
            "tags": []
          }
        }
      ]
    },
    {
      "cell_type": "code",
      "metadata": {
        "id": "p8SnGP8oDKha",
        "colab_type": "code",
        "colab": {}
      },
      "source": [
        "# predicting the output of the images\n",
        "y_pred = []\n",
        "\n",
        "directory = 'test/tb/'\n",
        "import os\n",
        "\n",
        "for filename in os.listdir(directory):\n",
        "    if filename.endswith(\".png\"): \n",
        "        img = image.load_img(directory + filename, target_size=(HEIGHT, WIDTH))\n",
        "        preds = predict(model, img)\n",
        "        y_pred.append(preds[0])\n",
        "        continue\n",
        "    else:\n",
        "        continue"
      ],
      "execution_count": 0,
      "outputs": []
    },
    {
      "cell_type": "code",
      "metadata": {
        "id": "Psi_4Y0EDKMa",
        "colab_type": "code",
        "colab": {}
      },
      "source": [
        "# appending class levels to a list\n",
        "path=\"test/\"\n",
        "tb_test = path + \"tb/\"\n",
        "\n",
        "label_tb_t = []\n",
        "\n",
        "for i in range(34):\n",
        "    label_tb_t.append(\"1\")"
      ],
      "execution_count": 0,
      "outputs": []
    },
    {
      "cell_type": "code",
      "metadata": {
        "id": "vb-onhBrDEgP",
        "colab_type": "code",
        "colab": {}
      },
      "source": [
        "# typecasting\n",
        "labels = np.asarray(label_tb_t)\n",
        "labels = labels.astype(int)"
      ],
      "execution_count": 0,
      "outputs": []
    },
    {
      "cell_type": "code",
      "metadata": {
        "id": "zOVtMoLBDTIo",
        "colab_type": "code",
        "colab": {}
      },
      "source": [
        "y_pred_1 = np.asarray(y_pred).reshape(-1, 1)\n",
        "from sklearn.preprocessing import binarize\n",
        "# it will return 1 for all values above 0.7 and 0 otherwise\n",
        "# results are 2D so we slice out the first column\n",
        "y_pred_class = binarize(y_pred_1, 0.7)"
      ],
      "execution_count": 0,
      "outputs": []
    },
    {
      "cell_type": "code",
      "metadata": {
        "id": "cHV9fpyXDS64",
        "colab_type": "code",
        "outputId": "90a17f01-9d55-476b-bd34-be310f9b0179",
        "colab": {
          "base_uri": "https://localhost:8080/",
          "height": 71
        }
      },
      "source": [
        "# \n",
        "from sklearn import metrics\n",
        "fpr, tpr, thresholds = metrics.roc_curve(labels, y_pred_class)"
      ],
      "execution_count": 0,
      "outputs": [
        {
          "output_type": "stream",
          "text": [
            "/usr/local/lib/python3.6/dist-packages/sklearn/metrics/ranking.py:651: UndefinedMetricWarning: No negative samples in y_true, false positive value should be meaningless\n",
            "  UndefinedMetricWarning)\n"
          ],
          "name": "stderr"
        }
      ]
    },
    {
      "cell_type": "code",
      "metadata": {
        "id": "ZU9IhV1pDS3z",
        "colab_type": "code",
        "colab": {}
      },
      "source": [
        "def evaluate_threshold(threshold):\n",
        "    print('Sensitivity:', tpr[thresholds > threshold][-1])\n",
        "    print('Specificity:', 1 - fpr[thresholds > threshold][-1])"
      ],
      "execution_count": 0,
      "outputs": []
    },
    {
      "cell_type": "code",
      "metadata": {
        "id": "kpVn6iXODqF8",
        "colab_type": "code",
        "outputId": "0c2f10ad-bdf8-49de-cbda-cdd0bad57a98",
        "colab": {
          "base_uri": "https://localhost:8080/",
          "height": 51
        }
      },
      "source": [
        "evaluate_threshold(0.8)"
      ],
      "execution_count": 0,
      "outputs": [
        {
          "output_type": "stream",
          "text": [
            "Sensitivity: 0.7352941176470589\n",
            "Specificity: nan\n"
          ],
          "name": "stdout"
        }
      ]
    },
    {
      "cell_type": "code",
      "metadata": {
        "id": "48-DpR4ZDqCd",
        "colab_type": "code",
        "outputId": "e49505ed-793e-4988-de1e-077f1d4ecbd6",
        "colab": {
          "base_uri": "https://localhost:8080/",
          "height": 51
        }
      },
      "source": [
        "print(metrics.confusion_matrix(labels, y_pred_class))"
      ],
      "execution_count": 0,
      "outputs": [
        {
          "output_type": "stream",
          "text": [
            "[[ 0  0]\n",
            " [ 9 25]]\n"
          ],
          "name": "stdout"
        }
      ]
    },
    {
      "cell_type": "markdown",
      "metadata": {
        "id": "OZyNsjfPMuau",
        "colab_type": "text"
      },
      "source": [
        "## OBSERVATION: "
      ]
    },
    {
      "cell_type": "markdown",
      "metadata": {
        "id": "NaiZN_bvM0eK",
        "colab_type": "text"
      },
      "source": [
        "1. Among all the models used VGG19 gave the a test accuracy of 78%. We got an validation accuracy of nearly 80% in that case. \n",
        "2. VGG19 model also had lowest test loss of 0.42.\n",
        "3. By taking a treshold of 0.8 we got a sensitivity of 0.73.\n",
        "4. We have seen that our model work really good as confusion matrix had higher true positives. \n",
        "5. We have got specificity as nan because the class levels we considered are only 1, so in that case our *'fpr*' rate turned out to be *nan* after calculation. \n",
        "6. We also visualised that our prediction for the x-ray image was remarkable with test accuracy of >90%\n"
      ]
    },
    {
      "cell_type": "code",
      "metadata": {
        "id": "POWD2vhtLyF3",
        "colab_type": "code",
        "colab": {}
      },
      "source": [
        ""
      ],
      "execution_count": 0,
      "outputs": []
    }
  ]
}